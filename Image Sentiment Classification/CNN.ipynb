{
 "cells": [
  {
   "cell_type": "code",
   "execution_count": 26,
   "metadata": {},
   "outputs": [],
   "source": [
    "from keras.models import Model\n",
    "from keras.layers import Input, Dense, Dropout, Flatten, Activation, Reshape\n",
    "from keras.layers.convolutional import Conv2D, ZeroPadding2D\n",
    "from keras.layers.pooling import MaxPooling2D, AveragePooling2D\n",
    "from keras.optimizers import SGD, Adam, Adadelta\n",
    "import numpy as np\n",
    "import pandas as pd\n",
    "from keras.utils import np_utils\n",
    "import time"
   ]
  },
  {
   "cell_type": "code",
   "execution_count": 27,
   "metadata": {
    "collapsed": true
   },
   "outputs": [],
   "source": [
    "train_data=pd.read_csv('train.csv')"
   ]
  },
  {
   "cell_type": "code",
   "execution_count": 28,
   "metadata": {},
   "outputs": [
    {
     "data": {
      "text/html": [
       "<div>\n",
       "<style>\n",
       "    .dataframe thead tr:only-child th {\n",
       "        text-align: right;\n",
       "    }\n",
       "\n",
       "    .dataframe thead th {\n",
       "        text-align: left;\n",
       "    }\n",
       "\n",
       "    .dataframe tbody tr th {\n",
       "        vertical-align: top;\n",
       "    }\n",
       "</style>\n",
       "<table border=\"1\" class=\"dataframe\">\n",
       "  <thead>\n",
       "    <tr style=\"text-align: right;\">\n",
       "      <th></th>\n",
       "      <th>label</th>\n",
       "      <th>feature</th>\n",
       "    </tr>\n",
       "  </thead>\n",
       "  <tbody>\n",
       "    <tr>\n",
       "      <th>0</th>\n",
       "      <td>0</td>\n",
       "      <td>70 80 82 72 58 58 60 63 54 58 60 48 89 115 121...</td>\n",
       "    </tr>\n",
       "    <tr>\n",
       "      <th>1</th>\n",
       "      <td>0</td>\n",
       "      <td>151 150 147 155 148 133 111 140 170 174 182 15...</td>\n",
       "    </tr>\n",
       "    <tr>\n",
       "      <th>2</th>\n",
       "      <td>2</td>\n",
       "      <td>231 212 156 164 174 138 161 173 182 200 106 38...</td>\n",
       "    </tr>\n",
       "    <tr>\n",
       "      <th>3</th>\n",
       "      <td>4</td>\n",
       "      <td>24 32 36 30 32 23 19 20 30 41 21 22 32 34 21 1...</td>\n",
       "    </tr>\n",
       "    <tr>\n",
       "      <th>4</th>\n",
       "      <td>6</td>\n",
       "      <td>4 0 0 0 0 0 0 0 0 0 0 0 3 15 23 28 48 50 58 84...</td>\n",
       "    </tr>\n",
       "  </tbody>\n",
       "</table>\n",
       "</div>"
      ],
      "text/plain": [
       "   label                                            feature\n",
       "0      0  70 80 82 72 58 58 60 63 54 58 60 48 89 115 121...\n",
       "1      0  151 150 147 155 148 133 111 140 170 174 182 15...\n",
       "2      2  231 212 156 164 174 138 161 173 182 200 106 38...\n",
       "3      4  24 32 36 30 32 23 19 20 30 41 21 22 32 34 21 1...\n",
       "4      6  4 0 0 0 0 0 0 0 0 0 0 0 3 15 23 28 48 50 58 84..."
      ]
     },
     "execution_count": 28,
     "metadata": {},
     "output_type": "execute_result"
    }
   ],
   "source": [
    "train_data.head()"
   ]
  },
  {
   "cell_type": "code",
   "execution_count": 29,
   "metadata": {},
   "outputs": [
    {
     "data": {
      "text/plain": [
       "(28709, 2)"
      ]
     },
     "execution_count": 29,
     "metadata": {},
     "output_type": "execute_result"
    }
   ],
   "source": [
    "train_data.shape"
   ]
  },
  {
   "cell_type": "code",
   "execution_count": 30,
   "metadata": {
    "collapsed": true
   },
   "outputs": [],
   "source": [
    "pixel=train_data['feature'].values\n",
    "label=train_data['label'].values"
   ]
  },
  {
   "cell_type": "code",
   "execution_count": 31,
   "metadata": {},
   "outputs": [
    {
     "data": {
      "text/plain": [
       "(28709,)"
      ]
     },
     "execution_count": 31,
     "metadata": {},
     "output_type": "execute_result"
    }
   ],
   "source": [
    "pixel.shape"
   ]
  },
  {
   "cell_type": "code",
   "execution_count": 32,
   "metadata": {},
   "outputs": [
    {
     "data": {
      "text/plain": [
       "(28709,)"
      ]
     },
     "execution_count": 32,
     "metadata": {},
     "output_type": "execute_result"
    }
   ],
   "source": [
    "label.shape"
   ]
  },
  {
   "cell_type": "code",
   "execution_count": 33,
   "metadata": {},
   "outputs": [
    {
     "data": {
      "text/plain": [
       "'70 80 82 72 58 58 60 63 54 58 60 48 89 115 121 119 115 110 98 91 84 84 90 99 110 126 143 153 158 171 169 172 169 165 129 110 113 107 95 79 66 62 56 57 61 52 43 41 65 61 58 57 56 69 75 70 65 56 54 105 146 154 151 151 155 155 150 147 147 148 152 158 164 172 177 182 186 189 188 190 188 180 167 116 95 103 97 77 72 62 55 58 54 56 52 44 50 43 54 64 63 71 68 64 52 66 119 156 161 164 163 164 167 168 170 174 175 176 178 179 183 187 190 195 197 198 197 198 195 191 190 145 86 100 90 65 57 60 54 51 41 49 56 47 38 44 63 55 46 52 54 55 83 138 157 158 165 168 172 171 173 176 179 179 180 182 185 187 189 189 192 197 200 199 196 198 200 198 197 177 91 87 96 58 58 59 51 42 37 41 47 45 37 35 36 30 41 47 59 94 141 159 161 161 164 170 171 172 176 178 179 182 183 183 187 189 192 192 194 195 200 200 199 199 200 201 197 193 111 71 108 69 55 61 51 42 43 56 54 44 24 29 31 45 61 72 100 136 150 159 163 162 163 170 172 171 174 177 177 180 187 186 187 189 192 192 194 195 196 197 199 200 201 200 197 201 137 58 98 92 57 62 53 47 41 40 51 43 24 35 52 63 75 104 129 143 149 158 162 164 166 171 173 172 174 178 178 179 187 188 188 191 193 194 195 198 199 199 197 198 197 197 197 201 164 52 78 87 69 58 56 50 54 39 44 42 26 31 49 65 91 119 134 145 147 152 159 163 167 171 170 169 174 178 178 179 187 187 185 187 190 188 187 191 197 201 199 199 200 197 196 197 182 58 62 77 61 60 55 49 59 52 54 44 22 30 47 68 102 123 136 144 148 150 153 157 167 172 173 170 171 177 179 178 186 190 186 189 196 193 191 194 190 190 192 197 201 203 199 194 189 69 48 74 56 60 57 50 59 59 51 41 20 34 47 79 111 132 139 143 145 147 150 151 160 169 172 171 167 171 177 177 174 180 182 181 192 196 189 192 198 195 194 196 198 201 202 195 189 70 39 69 61 61 61 53 59 59 45 40 26 40 61 93 124 135 138 142 144 146 151 152 158 165 168 168 165 161 164 173 172 167 172 167 180 198 198 193 199 195 194 198 200 198 197 195 190 65 35 68 59 59 62 57 60 59 50 44 32 54 90 115 132 137 138 140 144 146 146 156 165 168 174 176 176 175 168 168 169 171 175 171 172 192 194 184 198 205 201 194 195 193 195 192 186 57 38 72 65 57 62 58 57 60 54 49 47 79 116 130 138 141 141 139 141 143 145 157 164 164 166 173 174 176 179 179 176 181 189 188 173 180 175 160 182 189 198 192 189 190 190 188 172 46 44 64 66 59 62 57 56 62 53 50 66 103 133 137 141 143 141 136 132 131 136 127 118 111 107 108 123 131 143 154 158 166 177 181 175 170 159 148 171 161 176 185 192 194 188 190 162 53 49 58 63 61 61 55 56 61 51 50 81 116 139 142 142 146 144 136 128 119 112 97 85 90 91 88 92 90 80 81 84 106 122 132 144 145 144 147 163 147 163 173 181 190 187 191 167 61 48 53 61 61 58 54 56 61 51 53 89 123 140 144 145 146 147 136 122 107 99 95 92 90 87 83 76 67 52 46 52 63 69 83 96 119 132 148 159 136 137 143 138 143 152 156 156 70 48 50 59 61 57 54 54 61 52 56 93 124 135 140 144 148 150 140 125 114 101 80 54 56 54 41 41 33 40 39 35 49 60 63 74 107 129 147 147 116 111 100 77 76 86 108 111 73 49 50 60 62 60 57 55 63 59 56 89 121 134 139 146 151 152 150 141 127 111 96 77 85 70 32 31 37 91 65 50 48 59 73 83 112 136 155 130 60 46 38 40 43 81 116 91 72 52 48 58 62 62 59 53 61 59 52 85 114 134 140 147 154 159 158 153 145 143 150 126 121 125 68 45 89 137 95 70 78 75 95 109 131 153 171 94 23 16 32 82 82 65 113 77 71 54 48 56 62 62 60 53 60 56 52 75 108 133 141 149 158 166 169 167 163 156 155 146 112 119 134 127 142 140 121 117 129 114 120 129 146 174 191 98 46 33 33 109 147 98 109 67 73 55 50 56 64 64 61 58 61 53 54 64 106 129 140 148 159 169 175 176 174 165 159 156 145 120 115 124 127 131 133 141 147 142 141 147 161 182 202 154 114 96 100 158 158 153 123 61 76 57 48 56 64 64 63 62 61 54 55 44 97 131 137 147 158 168 177 181 183 179 170 168 169 165 155 152 151 152 154 162 165 158 153 158 168 187 206 186 147 135 144 145 152 178 115 57 74 58 48 58 64 63 63 59 63 55 53 66 104 130 132 144 153 162 170 180 185 187 181 178 182 180 177 173 171 171 177 176 172 164 161 167 164 185 207 197 173 152 141 141 161 191 104 54 69 60 48 57 65 62 60 57 64 55 50 94 111 124 130 135 150 159 163 172 179 184 184 178 178 177 173 171 174 177 178 176 169 165 161 163 161 180 205 201 183 171 177 178 180 194 101 55 65 60 47 55 65 63 59 58 63 57 52 90 105 117 122 130 143 153 157 163 171 174 182 183 182 178 174 175 175 177 175 172 163 161 159 157 162 178 200 201 188 181 172 177 187 198 98 57 63 61 48 52 61 64 63 60 65 57 51 95 104 113 117 127 136 145 152 156 162 162 165 173 177 182 183 183 180 181 177 165 153 154 152 153 160 174 193 200 188 185 180 182 192 196 101 60 60 56 49 50 60 66 64 62 64 59 53 99 104 111 112 118 132 142 147 155 158 160 159 162 171 176 184 186 183 180 169 154 141 135 145 155 164 180 196 205 188 189 188 189 193 192 98 61 64 55 49 49 60 66 63 64 63 60 57 99 105 108 112 113 125 139 143 150 155 158 164 169 174 176 182 183 182 177 163 141 133 147 151 164 170 185 200 210 194 188 192 186 185 180 88 64 67 60 46 50 59 65 64 64 64 59 56 101 103 108 109 109 118 134 143 143 147 155 159 166 171 174 177 179 178 172 153 129 143 161 159 166 171 186 197 207 203 185 191 183 179 164 73 67 67 66 48 50 57 65 65 63 64 61 57 103 108 114 112 110 115 128 138 144 145 152 156 159 164 168 172 172 169 161 139 125 147 156 161 162 164 180 188 188 197 185 187 181 180 137 65 70 68 70 52 47 53 62 65 63 65 61 58 105 109 112 120 113 112 122 134 141 149 150 153 155 159 164 167 167 162 152 134 115 126 119 106 99 109 141 158 150 155 175 184 176 175 106 63 70 68 68 50 46 50 57 63 63 64 61 59 107 110 110 117 117 114 117 128 137 147 148 150 153 156 161 162 163 156 150 148 105 70 45 26 25 47 73 74 79 128 177 180 173 157 77 66 68 67 68 52 49 51 56 62 62 62 62 60 101 107 108 114 115 114 117 125 134 143 148 149 152 154 158 160 158 155 160 158 132 88 73 73 64 52 66 91 138 160 174 173 171 125 64 67 63 64 68 54 50 49 54 60 60 60 62 60 98 105 105 109 111 114 117 125 131 139 145 148 153 153 156 157 156 161 168 165 153 139 122 115 105 89 103 150 182 161 171 173 162 89 64 64 62 64 69 56 48 49 56 58 60 59 62 60 89 99 108 106 109 111 119 120 125 134 140 146 152 153 153 153 156 159 162 160 150 136 129 133 133 122 133 148 178 168 168 175 132 61 67 66 65 63 69 57 47 50 55 58 59 61 62 60 89 96 105 107 105 107 117 120 123 124 133 141 149 153 151 145 151 145 139 140 138 128 126 124 129 125 136 142 164 172 168 168 87 58 67 63 62 61 69 57 39 44 55 56 59 63 62 62 84 91 92 98 102 103 113 119 121 118 128 138 146 151 147 142 140 128 127 128 129 126 135 140 135 130 143 146 149 166 174 131 62 65 62 59 67 63 68 83 89 65 42 52 60 60 62 63 77 84 84 91 99 101 107 112 117 118 122 134 145 149 144 134 127 127 129 130 134 125 126 132 152 153 151 150 151 165 171 87 59 65 64 61 58 86 122 138 208 207 154 71 52 56 55 56 69 77 83 85 93 91 102 112 116 118 119 127 140 144 142 131 112 95 85 75 62 58 56 59 87 88 83 127 142 165 149 62 65 62 59 77 113 192 156 84 185 196 197 168 81 70 75 69 58 65 73 82 81 79 95 107 114 116 116 123 136 142 136 132 131 102 71 58 49 41 33 41 36 49 60 99 136 168 111 53 63 71 138 186 203 195 146 87 91 72 79 95 103 82 61 74 55 57 68 75 76 77 84 96 106 110 111 121 130 138 136 142 153 159 152 152 154 145 133 136 147 158 156 155 147 158 74 57 60 123 181 174 126 89 72 67 57 43 55 67 76 86 60 45 51 45 52 68 75 73 77 88 96 100 104 113 115 121 134 146 149 146 149 148 155 168 174 179 178 169 169 174 161 131 44 47 82 150 168 136 104 75 66 80 67 58 48 54 68 88 121 102 51 45 38 53 66 65 70 86 92 96 102 103 109 116 130 136 136 133 136 138 137 135 128 130 143 158 165 164 147 87 62 74 123 160 170 100 99 107 79 71 86 75 57 45 49 65 122 130 43 48 40 39 55 61 59 71 82 87 88 93 105 118 123 128 130 124 111 98 94 88 67 55 84 129 147 148 105 48 82 142 161 164 164 76 72 85 100 88 72 90 84 54 48 54 73 100 73 36 44 31 37 53 51 55 67 74 77 87 97 108 118 125 132 122 106 86 80 82 75 73 83 110 129 126 46 22 130 177 196 193 166 72 52 54 73 100 92 75 99 95 65 68 61 63 91 65 42 37 22 28 39 44 57 68 74 83 92 101 119 131 143 141 134 136 140 139 134 136 139 138 136 85 23 114 202 198 199 180 173 98 36 86 130 150 137 99 77 101 99 72 56 43 77 82 79 70 56 28 20 25 36 50 63 73 83 98 111 124 139 156 160 159 169 168 165 163 159 149 114 43 26 133 183 192 177 152 137 130 125 139 173 195 186 137 101 88 101 105 70 46 77 72 84 87 87 81 64 37 20 31 40 46 65 88 108 110 125 149 157 153 162 164 158 159 154 140 78 21 11 61 144 168 173 157 138 150 148 132 159 182 183 136 106 116 95 106 109 82'"
      ]
     },
     "execution_count": 33,
     "metadata": {},
     "output_type": "execute_result"
    }
   ],
   "source": [
    "pixel[0]"
   ]
  },
  {
   "cell_type": "code",
   "execution_count": 34,
   "metadata": {},
   "outputs": [
    {
     "data": {
      "text/plain": [
       "numpy.ndarray"
      ]
     },
     "execution_count": 34,
     "metadata": {},
     "output_type": "execute_result"
    }
   ],
   "source": [
    "type(pixel)"
   ]
  },
  {
   "cell_type": "code",
   "execution_count": 35,
   "metadata": {
    "collapsed": true
   },
   "outputs": [],
   "source": [
    "pixels=[ np.fromstring(x, dtype=float, sep=' ') for x in pixel ]"
   ]
  },
  {
   "cell_type": "code",
   "execution_count": 36,
   "metadata": {},
   "outputs": [
    {
     "data": {
      "text/plain": [
       "array([  70.,   80.,   82., ...,  106.,  109.,   82.])"
      ]
     },
     "execution_count": 36,
     "metadata": {},
     "output_type": "execute_result"
    }
   ],
   "source": [
    "pixels[0]"
   ]
  },
  {
   "cell_type": "code",
   "execution_count": 37,
   "metadata": {
    "collapsed": true
   },
   "outputs": [],
   "source": [
    "pixels=np.array(pixels)\n",
    "pixels=pixels.reshape(pixels.shape[0],48,48,1)\n",
    "pixels=pixels.astype('float32')\n",
    "pixels=pixels/255"
   ]
  },
  {
   "cell_type": "code",
   "execution_count": 38,
   "metadata": {},
   "outputs": [
    {
     "data": {
      "text/plain": [
       "(28709, 48, 48, 1)"
      ]
     },
     "execution_count": 38,
     "metadata": {},
     "output_type": "execute_result"
    }
   ],
   "source": [
    "pixels.shape"
   ]
  },
  {
   "cell_type": "code",
   "execution_count": 39,
   "metadata": {},
   "outputs": [
    {
     "data": {
      "text/plain": [
       "(28709, 7)"
      ]
     },
     "execution_count": 39,
     "metadata": {},
     "output_type": "execute_result"
    }
   ],
   "source": [
    "# 将类向量转换为二进制类矩阵\n",
    "label = np_utils.to_categorical(label, 7)\n",
    "label.shape"
   ]
  },
  {
   "cell_type": "code",
   "execution_count": 40,
   "metadata": {
    "collapsed": true
   },
   "outputs": [],
   "source": [
    "#分成训练集和测试集\n",
    "id=int(pixels.shape[0]*0.8)\n",
    "X_train=pixels[:id]\n",
    "X_test=pixels[id:]\n",
    "y_train=label[:id]\n",
    "y_test=label[id:]"
   ]
  },
  {
   "cell_type": "code",
   "execution_count": 41,
   "metadata": {},
   "outputs": [
    {
     "data": {
      "text/plain": [
       "(22967, 48, 48, 1)"
      ]
     },
     "execution_count": 41,
     "metadata": {},
     "output_type": "execute_result"
    }
   ],
   "source": [
    "X_train.shape"
   ]
  },
  {
   "cell_type": "code",
   "execution_count": 42,
   "metadata": {},
   "outputs": [
    {
     "data": {
      "text/plain": [
       "(5742, 48, 48, 1)"
      ]
     },
     "execution_count": 42,
     "metadata": {},
     "output_type": "execute_result"
    }
   ],
   "source": [
    "X_test.shape"
   ]
  },
  {
   "cell_type": "code",
   "execution_count": 43,
   "metadata": {},
   "outputs": [
    {
     "data": {
      "text/plain": [
       "(22967, 7)"
      ]
     },
     "execution_count": 43,
     "metadata": {},
     "output_type": "execute_result"
    }
   ],
   "source": [
    "y_train.shape"
   ]
  },
  {
   "cell_type": "code",
   "execution_count": 44,
   "metadata": {},
   "outputs": [
    {
     "name": "stdout",
     "output_type": "stream",
     "text": [
      "_________________________________________________________________\n",
      "Layer (type)                 Output Shape              Param #   \n",
      "=================================================================\n",
      "input_3 (InputLayer)         (None, 48, 48, 1)         0         \n",
      "_________________________________________________________________\n",
      "conv2d_11 (Conv2D)           (None, 44, 44, 64)        1664      \n",
      "_________________________________________________________________\n",
      "zero_padding2d_13 (ZeroPaddi (None, 48, 48, 64)        0         \n",
      "_________________________________________________________________\n",
      "max_pooling2d_3 (MaxPooling2 (None, 22, 22, 64)        0         \n",
      "_________________________________________________________________\n",
      "zero_padding2d_14 (ZeroPaddi (None, 24, 24, 64)        0         \n",
      "_________________________________________________________________\n",
      "conv2d_12 (Conv2D)           (None, 22, 22, 64)        36928     \n",
      "_________________________________________________________________\n",
      "zero_padding2d_15 (ZeroPaddi (None, 24, 24, 64)        0         \n",
      "_________________________________________________________________\n",
      "conv2d_13 (Conv2D)           (None, 22, 22, 64)        36928     \n",
      "_________________________________________________________________\n",
      "average_pooling2d_5 (Average (None, 10, 10, 64)        0         \n",
      "_________________________________________________________________\n",
      "zero_padding2d_16 (ZeroPaddi (None, 12, 12, 64)        0         \n",
      "_________________________________________________________________\n",
      "conv2d_14 (Conv2D)           (None, 10, 10, 128)       73856     \n",
      "_________________________________________________________________\n",
      "zero_padding2d_17 (ZeroPaddi (None, 12, 12, 128)       0         \n",
      "_________________________________________________________________\n",
      "conv2d_15 (Conv2D)           (None, 10, 10, 128)       147584    \n",
      "_________________________________________________________________\n",
      "zero_padding2d_18 (ZeroPaddi (None, 12, 12, 128)       0         \n",
      "_________________________________________________________________\n",
      "average_pooling2d_6 (Average (None, 5, 5, 128)         0         \n",
      "_________________________________________________________________\n",
      "flatten_3 (Flatten)          (None, 3200)              0         \n",
      "_________________________________________________________________\n",
      "dense_7 (Dense)              (None, 1024)              3277824   \n",
      "_________________________________________________________________\n",
      "dropout_5 (Dropout)          (None, 1024)              0         \n",
      "_________________________________________________________________\n",
      "dense_8 (Dense)              (None, 1024)              1049600   \n",
      "_________________________________________________________________\n",
      "dropout_6 (Dropout)          (None, 1024)              0         \n",
      "_________________________________________________________________\n",
      "dense_9 (Dense)              (None, 7)                 7175      \n",
      "_________________________________________________________________\n",
      "activation_3 (Activation)    (None, 7)                 0         \n",
      "=================================================================\n",
      "Total params: 4,631,559\n",
      "Trainable params: 4,631,559\n",
      "Non-trainable params: 0\n",
      "_________________________________________________________________\n"
     ]
    }
   ],
   "source": [
    "input_img = Input(shape=(48, 48, 1))\n",
    "\n",
    "block1 = Conv2D(64, (5, 5), padding='valid', activation='relu')(input_img)\n",
    "block1 = ZeroPadding2D(padding=(2, 2), data_format='channels_last')(block1)\n",
    "block1 = MaxPooling2D(pool_size=(5, 5), strides=(2, 2))(block1)\n",
    "block1 = ZeroPadding2D(padding=(1, 1), data_format='channels_last')(block1)\n",
    "\n",
    "block2 = Conv2D(64, (3, 3), activation='relu')(block1)\n",
    "block2 = ZeroPadding2D(padding=(1, 1), data_format='channels_last')(block2)\n",
    "\n",
    "block3 = Conv2D(64, (3, 3), activation='relu')(block2)\n",
    "block3 = AveragePooling2D(pool_size=(3, 3), strides=(2, 2))(block3)\n",
    "block3 = ZeroPadding2D(padding=(1, 1), data_format='channels_last')(block3)\n",
    "\n",
    "block4 = Conv2D(128, (3, 3), activation='relu')(block3)\n",
    "block4 = ZeroPadding2D(padding=(1, 1), data_format='channels_last')(block4)\n",
    "\n",
    "block5 = Conv2D(128, (3, 3), activation='relu')(block4)\n",
    "block5 = ZeroPadding2D(padding=(1, 1), data_format='channels_last')(block5)\n",
    "block5 = AveragePooling2D(pool_size=(3, 3), strides=(2, 2))(block5)\n",
    "block5 = Flatten()(block5)\n",
    "\n",
    "fc1 = Dense(1024, activation='relu')(block5)\n",
    "fc1 = Dropout(0.5)(fc1)\n",
    "\n",
    "fc2 = Dense(1024, activation='relu')(fc1)\n",
    "fc2 = Dropout(0.5)(fc2)\n",
    "\n",
    "predict = Dense(7)(fc2)\n",
    "predict = Activation('softmax')(predict)\n",
    "model = Model(inputs=input_img, outputs=predict)\n",
    "\n",
    "# opt = SGD(lr=0.1, decay=1e-6, momentum=0.9, nesterov=True)\n",
    "# opt = Adam(lr=1e-3)\n",
    "opt = Adadelta(lr=0.1, rho=0.95, epsilon=1e-08)\n",
    "model.compile(loss='categorical_crossentropy', optimizer='adam', metrics=['accuracy'])\n",
    "model.summary()"
   ]
  },
  {
   "cell_type": "code",
   "execution_count": 45,
   "metadata": {
    "collapsed": true
   },
   "outputs": [],
   "source": [
    "# 定义超参数\n",
    "batch_size = 128\n",
    "num_epoch = 12  # 训练轮数"
   ]
  },
  {
   "cell_type": "code",
   "execution_count": 46,
   "metadata": {
    "collapsed": true
   },
   "outputs": [],
   "source": [
    "# 计算在一个epoch中哪些位置可以停止（整数倍的batch_size的位置）\n",
    "num_instances = len(y_train)\n",
    "iter_per_epoch = int(num_instances / batch_size) + 1\n",
    "batch_cutoff = [0]\n",
    "for i in range(iter_per_epoch - 1):\n",
    "    batch_cutoff.append(batch_size * (i+1))\n",
    "batch_cutoff.append(num_instances)"
   ]
  },
  {
   "cell_type": "code",
   "execution_count": 47,
   "metadata": {},
   "outputs": [
    {
     "data": {
      "text/plain": [
       "[0,\n",
       " 128,\n",
       " 256,\n",
       " 384,\n",
       " 512,\n",
       " 640,\n",
       " 768,\n",
       " 896,\n",
       " 1024,\n",
       " 1152,\n",
       " 1280,\n",
       " 1408,\n",
       " 1536,\n",
       " 1664,\n",
       " 1792,\n",
       " 1920,\n",
       " 2048,\n",
       " 2176,\n",
       " 2304,\n",
       " 2432,\n",
       " 2560,\n",
       " 2688,\n",
       " 2816,\n",
       " 2944,\n",
       " 3072,\n",
       " 3200,\n",
       " 3328,\n",
       " 3456,\n",
       " 3584,\n",
       " 3712,\n",
       " 3840,\n",
       " 3968,\n",
       " 4096,\n",
       " 4224,\n",
       " 4352,\n",
       " 4480,\n",
       " 4608,\n",
       " 4736,\n",
       " 4864,\n",
       " 4992,\n",
       " 5120,\n",
       " 5248,\n",
       " 5376,\n",
       " 5504,\n",
       " 5632,\n",
       " 5760,\n",
       " 5888,\n",
       " 6016,\n",
       " 6144,\n",
       " 6272,\n",
       " 6400,\n",
       " 6528,\n",
       " 6656,\n",
       " 6784,\n",
       " 6912,\n",
       " 7040,\n",
       " 7168,\n",
       " 7296,\n",
       " 7424,\n",
       " 7552,\n",
       " 7680,\n",
       " 7808,\n",
       " 7936,\n",
       " 8064,\n",
       " 8192,\n",
       " 8320,\n",
       " 8448,\n",
       " 8576,\n",
       " 8704,\n",
       " 8832,\n",
       " 8960,\n",
       " 9088,\n",
       " 9216,\n",
       " 9344,\n",
       " 9472,\n",
       " 9600,\n",
       " 9728,\n",
       " 9856,\n",
       " 9984,\n",
       " 10112,\n",
       " 10240,\n",
       " 10368,\n",
       " 10496,\n",
       " 10624,\n",
       " 10752,\n",
       " 10880,\n",
       " 11008,\n",
       " 11136,\n",
       " 11264,\n",
       " 11392,\n",
       " 11520,\n",
       " 11648,\n",
       " 11776,\n",
       " 11904,\n",
       " 12032,\n",
       " 12160,\n",
       " 12288,\n",
       " 12416,\n",
       " 12544,\n",
       " 12672,\n",
       " 12800,\n",
       " 12928,\n",
       " 13056,\n",
       " 13184,\n",
       " 13312,\n",
       " 13440,\n",
       " 13568,\n",
       " 13696,\n",
       " 13824,\n",
       " 13952,\n",
       " 14080,\n",
       " 14208,\n",
       " 14336,\n",
       " 14464,\n",
       " 14592,\n",
       " 14720,\n",
       " 14848,\n",
       " 14976,\n",
       " 15104,\n",
       " 15232,\n",
       " 15360,\n",
       " 15488,\n",
       " 15616,\n",
       " 15744,\n",
       " 15872,\n",
       " 16000,\n",
       " 16128,\n",
       " 16256,\n",
       " 16384,\n",
       " 16512,\n",
       " 16640,\n",
       " 16768,\n",
       " 16896,\n",
       " 17024,\n",
       " 17152,\n",
       " 17280,\n",
       " 17408,\n",
       " 17536,\n",
       " 17664,\n",
       " 17792,\n",
       " 17920,\n",
       " 18048,\n",
       " 18176,\n",
       " 18304,\n",
       " 18432,\n",
       " 18560,\n",
       " 18688,\n",
       " 18816,\n",
       " 18944,\n",
       " 19072,\n",
       " 19200,\n",
       " 19328,\n",
       " 19456,\n",
       " 19584,\n",
       " 19712,\n",
       " 19840,\n",
       " 19968,\n",
       " 20096,\n",
       " 20224,\n",
       " 20352,\n",
       " 20480,\n",
       " 20608,\n",
       " 20736,\n",
       " 20864,\n",
       " 20992,\n",
       " 21120,\n",
       " 21248,\n",
       " 21376,\n",
       " 21504,\n",
       " 21632,\n",
       " 21760,\n",
       " 21888,\n",
       " 22016,\n",
       " 22144,\n",
       " 22272,\n",
       " 22400,\n",
       " 22528,\n",
       " 22656,\n",
       " 22784,\n",
       " 22912,\n",
       " 22967]"
      ]
     },
     "execution_count": 47,
     "metadata": {},
     "output_type": "execute_result"
    }
   ],
   "source": [
    "batch_cutoff"
   ]
  },
  {
   "cell_type": "code",
   "execution_count": 48,
   "metadata": {},
   "outputs": [
    {
     "name": "stdout",
     "output_type": "stream",
     "text": [
      "#######\n",
      "Epoch 1\n",
      "#######\n",
      "Iteration 1\n",
      "Iteration 51\n",
      "Iteration 101\n",
      "Iteration 151\n",
      "5504/5742 [===========================>..] - ETA: 0s\n",
      "loss & metrics:\n",
      "[1.9437382364472375, 0.138801811319409]\n",
      "save best score!! 0.138801811319\n",
      "Elapsed time in epoch 1: 16.646674633026123\n",
      "#######\n",
      "Epoch 2\n",
      "#######\n",
      "Iteration 1\n",
      "Iteration 51\n",
      "Iteration 101\n",
      "Iteration 151\n",
      "5742/5742 [==============================] - 1s     \n",
      "\n",
      "loss & metrics:\n",
      "[1.9437382391046374, 0.13880181103394615]\n",
      "Elapsed time in epoch 2: 14.021574258804321\n",
      "#######\n",
      "Epoch 3\n",
      "#######\n",
      "Iteration 1\n",
      "Iteration 51\n",
      "Iteration 101\n",
      "Iteration 151\n",
      "5504/5742 [===========================>..] - ETA: 0s\n",
      "loss & metrics:\n",
      "[1.9437382337898379, 0.13880181103394615]\n",
      "Elapsed time in epoch 3: 14.081128120422363\n",
      "Saved model 3!\n",
      "#######\n",
      "Epoch 4\n",
      "#######\n",
      "Iteration 1\n",
      "Iteration 51\n",
      "Iteration 101\n",
      "Iteration 151\n",
      "5504/5742 [===========================>..] - ETA: 0s\n",
      "loss & metrics:\n",
      "[1.9437382444194367, 0.13880181103394615]\n",
      "Elapsed time in epoch 4: 14.063432455062866\n",
      "#######\n",
      "Epoch 5\n",
      "#######\n",
      "Iteration 1\n",
      "Iteration 51\n",
      "Iteration 101\n",
      "Iteration 151\n",
      "5504/5742 [===========================>..] - ETA: 0s\n",
      "loss & metrics:\n",
      "[1.9437382444194367, 0.138801811319409]\n",
      "save best score!! 0.138801811319\n",
      "Elapsed time in epoch 5: 14.045183897018433\n",
      "#######\n",
      "Epoch 6\n",
      "#######\n",
      "Iteration 1\n",
      "Iteration 51\n",
      "Iteration 101\n",
      "Iteration 151\n",
      "5504/5742 [===========================>..] - ETA: 0s\n",
      "loss & metrics:\n",
      "[1.9437382444194367, 0.13880181103394615]\n",
      "Elapsed time in epoch 6: 14.049928665161133\n",
      "Saved model 6!\n",
      "#######\n",
      "Epoch 7\n",
      "#######\n",
      "Iteration 1\n",
      "Iteration 51\n",
      "Iteration 101\n",
      "Iteration 151\n",
      "5504/5742 [===========================>..] - ETA: 0s\n",
      "loss & metrics:\n",
      "[1.9437382178454397, 0.138801811319409]\n",
      "save best score!! 0.138801811319\n",
      "Elapsed time in epoch 7: 14.054067373275757\n",
      "#######\n",
      "Epoch 8\n",
      "#######\n",
      "Iteration 1\n",
      "Iteration 51\n",
      "Iteration 101\n",
      "Iteration 151\n",
      "5504/5742 [===========================>..] - ETA: 0s\n",
      "loss & metrics:\n",
      "[1.9437382391046374, 0.13880181103394615]\n",
      "Elapsed time in epoch 8: 14.04167652130127\n",
      "#######\n",
      "Epoch 9\n",
      "#######\n",
      "Iteration 1\n",
      "Iteration 51\n",
      "Iteration 101\n",
      "Iteration 151\n",
      "5504/5742 [===========================>..] - ETA: 0s\n",
      "loss & metrics:\n",
      "[1.9437382337898379, 0.138801811319409]\n",
      "save best score!! 0.138801811319\n",
      "Elapsed time in epoch 9: 14.050878286361694\n",
      "Saved model 9!\n",
      "#######\n",
      "Epoch 10\n",
      "#######\n",
      "Iteration 1\n",
      "Iteration 51\n",
      "Iteration 101\n",
      "Iteration 151\n",
      "5742/5742 [==============================] - 1s     \n",
      "\n",
      "loss & metrics:\n",
      "[1.9437382337898379, 0.138801811319409]\n",
      "save best score!! 0.138801811319\n",
      "Elapsed time in epoch 10: 14.059479475021362\n",
      "#######\n",
      "Epoch 11\n",
      "#######\n",
      "Iteration 1\n",
      "Iteration 51\n",
      "Iteration 101\n",
      "Iteration 151\n",
      "5504/5742 [===========================>..] - ETA: 0s\n",
      "loss & metrics:\n",
      "[1.9437382284750386, 0.138801811319409]\n",
      "save best score!! 0.138801811319\n",
      "Elapsed time in epoch 11: 14.064010381698608\n",
      "#######\n",
      "Epoch 12\n",
      "#######\n",
      "Iteration 1\n",
      "Iteration 51\n",
      "Iteration 101\n",
      "Iteration 151\n",
      "5504/5742 [===========================>..] - ETA: 0s\n",
      "loss & metrics:\n",
      "[1.9437382391046374, 0.138801811319409]\n",
      "save best score!! 0.138801811319\n",
      "Elapsed time in epoch 12: 14.045546054840088\n",
      "Saved model 12!\n",
      "Elapsed time in total: 171.85180401802063\n"
     ]
    }
   ],
   "source": [
    "total_start_t = time.time()\n",
    "best_metrics = 0.0\n",
    "early_stop_counter = 0\n",
    "saveevery=3\n",
    "PATIENCE = 5 # The parameter is used for early stopping\n",
    "\n",
    "for e in range(num_epoch):\n",
    "\t#shuffle data in every epoch\n",
    "\trand_idxs = np.random.permutation(num_instances)\n",
    "\tprint ('#######')\n",
    "\tprint ('Epoch ' + str(e+1))\n",
    "\tprint ('#######')\n",
    "\tstart_t = time.time()\n",
    "\n",
    "\tfor i in range(iter_per_epoch):\n",
    "\t\tif i % 50 == 0:\n",
    "\t\t\tprint ('Iteration ' + str(i+1))\n",
    "\t\tX_batch = []\n",
    "\t\tY_batch = []\n",
    "\t\t''' fill data into each batch '''\n",
    "\t\tfor n in range(batch_cutoff[i], batch_cutoff[i+1]):\n",
    "\t\t\tX_batch.append(X_train[rand_idxs[n]])\n",
    "\t\t\tY_batch.append(np.zeros((7, ), dtype=np.float))\n",
    "# \t\t\tX_batch[-1] = np.fromstring(X_batch[-1], dtype=float, sep=' ').reshape((48, 48, 1))\n",
    "# \t\t\tY_batch[-1][int(train_labels[rand_idxs[n]])] = 1.\n",
    "\n",
    "\t\t''' use these batch data to train your model '''\n",
    "\t\tmodel.train_on_batch(np.asarray(X_batch),np.asarray(Y_batch))\n",
    "\n",
    "\t'''\n",
    "\tThe above process is one epoch, and then we can check the performance now.\n",
    "\t'''\n",
    "\tloss_and_metrics = model.evaluate(X_test, y_test, batch_size)\n",
    "\tprint ('\\nloss & metrics:')\n",
    "\tprint (loss_and_metrics)\n",
    "\n",
    "\t'''\n",
    "\tearly stop is a mechanism to prevent your model from overfitting\n",
    "\t'''\n",
    "\tif loss_and_metrics[1] >= best_metrics:\n",
    "\t\tbest_metrics = loss_and_metrics[1]\n",
    "\t\tprint (\"save best score!! \"+str(loss_and_metrics[1]))\n",
    "\t\tearly_stop_counter = 0\n",
    "\telse:\n",
    "\t\tearly_stop_counter += 1\n",
    "\n",
    "\t'''\n",
    "\tSample code to write result :\n",
    "\n",
    "\tif e == e:\n",
    "\t\tval_proba = model.predict(val_pixels)\n",
    "\t\tval_classes = val_proba.argmax(axis=-1)\n",
    "\n",
    "\n",
    "\t\twith open('result/simple%s.csv' % str(e), 'w') as f:\n",
    "\t\t\tf.write('acc = %s\\n' % str(loss_and_metrics[1]))\n",
    "\t\t\tf.write('id,label')\n",
    "\t\t\tfor i in range(len(val_classes)):\n",
    "\t\t\t\tf.write('\\n' + str(i) + ',' + str(val_classes[i]))\n",
    "\t'''\n",
    "\n",
    "\tprint ('Elapsed time in epoch ' + str(e+1) + ': ' + str(time.time() - start_t))\n",
    "\n",
    "\tif (e+1) % saveevery == 0:\n",
    "\t\tmodel.save('model-%d.h5' %(e+1))\n",
    "\t\tprint ('Saved model %s!' %str(e+1))\n",
    "\n",
    "\tif early_stop_counter >= PATIENCE:\n",
    "\t\tprint ('Stop by early stopping')\n",
    "\t\tprint ('Best score: '+str(best_metrics))\n",
    "\t\tbreak\n",
    "\n",
    "print ('Elapsed time in total: ' + str(time.time() - total_start_t))\n"
   ]
  },
  {
   "cell_type": "code",
   "execution_count": null,
   "metadata": {
    "collapsed": true
   },
   "outputs": [],
   "source": []
  }
 ],
 "metadata": {
  "kernelspec": {
   "display_name": "Python 3",
   "language": "python",
   "name": "python3"
  },
  "language_info": {
   "codemirror_mode": {
    "name": "ipython",
    "version": 3
   },
   "file_extension": ".py",
   "mimetype": "text/x-python",
   "name": "python",
   "nbconvert_exporter": "python",
   "pygments_lexer": "ipython3",
   "version": "3.6.3"
  },
  "toc": {
   "nav_menu": {},
   "number_sections": true,
   "sideBar": true,
   "skip_h1_title": false,
   "toc_cell": false,
   "toc_position": {},
   "toc_section_display": "block",
   "toc_window_display": true
  }
 },
 "nbformat": 4,
 "nbformat_minor": 2
}
