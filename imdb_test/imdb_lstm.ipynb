{
 "cells": [
  {
   "cell_type": "code",
   "execution_count": 1,
   "metadata": {},
   "outputs": [
    {
     "name": "stderr",
     "output_type": "stream",
     "text": [
      "Using TensorFlow backend.\n"
     ]
    },
    {
     "name": "stdout",
     "output_type": "stream",
     "text": [
      "Loading data...\n",
      "25000 train sequences\n",
      "25000 test sequences\n",
      "Pad sequences (samples x time)\n",
      "x_train shape: (25000, 80)\n",
      "x_test shape: (25000, 80)\n",
      "Build model...\n",
      "Train...\n",
      "Train on 25000 samples, validate on 25000 samples\n",
      "Epoch 1/15\n",
      "25000/25000 [==============================] - 151s - loss: 0.4654 - acc: 0.7741 - val_loss: 0.3901 - val_acc: 0.8347\n",
      "Epoch 2/15\n",
      "25000/25000 [==============================] - 149s - loss: 0.2931 - acc: 0.8794 - val_loss: 0.4280 - val_acc: 0.8321\n",
      "Epoch 3/15\n",
      "25000/25000 [==============================] - 146s - loss: 0.2083 - acc: 0.9201 - val_loss: 0.4032 - val_acc: 0.8297\n",
      "Epoch 4/15\n",
      "25000/25000 [==============================] - 143s - loss: 0.1545 - acc: 0.9420 - val_loss: 0.5082 - val_acc: 0.8271\n",
      "Epoch 5/15\n",
      "25000/25000 [==============================] - 143s - loss: 0.1026 - acc: 0.9624 - val_loss: 0.5965 - val_acc: 0.8215\n",
      "Epoch 6/15\n",
      "25000/25000 [==============================] - 144s - loss: 0.0851 - acc: 0.9705 - val_loss: 0.5810 - val_acc: 0.8200\n",
      "Epoch 7/15\n",
      "25000/25000 [==============================] - 143s - loss: 0.0568 - acc: 0.9809 - val_loss: 0.7322 - val_acc: 0.8200\n",
      "Epoch 8/15\n",
      "25000/25000 [==============================] - 145s - loss: 0.0392 - acc: 0.9878 - val_loss: 0.7897 - val_acc: 0.8102\n",
      "Epoch 9/15\n",
      "25000/25000 [==============================] - 143s - loss: 0.0327 - acc: 0.9894 - val_loss: 1.0365 - val_acc: 0.8097\n",
      "Epoch 10/15\n",
      "25000/25000 [==============================] - 143s - loss: 0.0258 - acc: 0.9920 - val_loss: 0.8709 - val_acc: 0.8150\n",
      "Epoch 11/15\n",
      "25000/25000 [==============================] - 143s - loss: 0.0291 - acc: 0.9898 - val_loss: 0.9237 - val_acc: 0.8104\n",
      "Epoch 12/15\n",
      "25000/25000 [==============================] - 143s - loss: 0.0137 - acc: 0.9959 - val_loss: 1.0078 - val_acc: 0.8127\n",
      "Epoch 13/15\n",
      "25000/25000 [==============================] - 143s - loss: 0.0132 - acc: 0.9964 - val_loss: 1.1404 - val_acc: 0.8068\n",
      "Epoch 14/15\n",
      "25000/25000 [==============================] - 143s - loss: 0.0132 - acc: 0.9957 - val_loss: 1.1679 - val_acc: 0.8101\n",
      "Epoch 15/15\n",
      "25000/25000 [==============================] - 143s - loss: 0.0109 - acc: 0.9965 - val_loss: 1.1417 - val_acc: 0.8082\n",
      "24992/25000 [============================>.] - ETA: 0sTest score: 1.14170121683\n",
      "Test accuracy: 0.8082\n"
     ]
    }
   ],
   "source": [
    "'''Trains an LSTM model on the IMDB sentiment classification task.\n",
    "The dataset is actually too small for LSTM to be of any advantage\n",
    "compared to simpler, much faster methods such as TF-IDF + LogReg.\n",
    "# Notes\n",
    "- RNNs are tricky. Choice of batch size is important,\n",
    "choice of loss and optimizer is critical, etc.\n",
    "Some configurations won't converge.\n",
    "- LSTM loss decrease patterns during training can be quite different\n",
    "from what you see with CNNs/MLPs/etc.\n",
    "'''\n",
    "from __future__ import print_function\n",
    "\n",
    "from keras.preprocessing import sequence\n",
    "from keras.models import Sequential\n",
    "from keras.layers import Dense, Embedding\n",
    "from keras.layers import LSTM\n",
    "from keras.datasets import imdb\n",
    "\n",
    "max_features = 20000\n",
    "maxlen = 80  # cut texts after this number of words (among top max_features most common words)\n",
    "batch_size = 32\n",
    "\n",
    "print('Loading data...')\n",
    "(x_train, y_train), (x_test, y_test) = imdb.load_data(num_words=max_features)\n",
    "print(len(x_train), 'train sequences')\n",
    "print(len(x_test), 'test sequences')\n",
    "\n",
    "print('Pad sequences (samples x time)')\n",
    "x_train = sequence.pad_sequences(x_train, maxlen=maxlen)\n",
    "x_test = sequence.pad_sequences(x_test, maxlen=maxlen)\n",
    "print('x_train shape:', x_train.shape)\n",
    "print('x_test shape:', x_test.shape)\n",
    "\n",
    "print('Build model...')\n",
    "model = Sequential()\n",
    "model.add(Embedding(max_features, 128))\n",
    "model.add(LSTM(128, dropout=0.2, recurrent_dropout=0.2))\n",
    "model.add(Dense(1, activation='sigmoid'))\n",
    "\n",
    "# try using different optimizers and different optimizer configs\n",
    "model.compile(loss='binary_crossentropy',\n",
    "              optimizer='adam',\n",
    "              metrics=['accuracy'])\n",
    "\n",
    "print('Train...')\n",
    "model.fit(x_train, y_train,\n",
    "          batch_size=batch_size,\n",
    "          epochs=15,\n",
    "          validation_data=(x_test, y_test))\n",
    "score, acc = model.evaluate(x_test, y_test,\n",
    "                            batch_size=batch_size)\n",
    "print('Test score:', score)\n",
    "print('Test accuracy:', acc)"
   ]
  },
  {
   "cell_type": "code",
   "execution_count": null,
   "metadata": {
    "collapsed": true
   },
   "outputs": [],
   "source": []
  }
 ],
 "metadata": {
  "kernelspec": {
   "display_name": "Python 3",
   "language": "python",
   "name": "python3"
  },
  "language_info": {
   "codemirror_mode": {
    "name": "ipython",
    "version": 3
   },
   "file_extension": ".py",
   "mimetype": "text/x-python",
   "name": "python",
   "nbconvert_exporter": "python",
   "pygments_lexer": "ipython3",
   "version": "3.6.1"
  },
  "toc": {
   "nav_menu": {},
   "number_sections": true,
   "sideBar": true,
   "skip_h1_title": false,
   "toc_cell": false,
   "toc_position": {},
   "toc_section_display": "block",
   "toc_window_display": true
  }
 },
 "nbformat": 4,
 "nbformat_minor": 2
}
