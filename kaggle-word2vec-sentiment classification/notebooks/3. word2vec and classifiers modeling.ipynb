{
 "cells": [
  {
   "cell_type": "markdown",
   "metadata": {},
   "source": [
    "# 在word2vec上训练情感分析模型"
   ]
  },
  {
   "cell_type": "code",
   "execution_count": 4,
   "metadata": {
    "collapsed": true
   },
   "outputs": [],
   "source": [
    "import os\n",
    "import re\n",
    "import numpy as np\n",
    "import pandas as pd\n",
    "\n",
    "from bs4 import BeautifulSoup\n",
    "\n",
    "#from nltk.corpus import stopwords\n",
    "\n",
    "from gensim.models.word2vec import Word2Vec\n",
    "\n",
    "from sklearn.ensemble import RandomForestClassifier\n",
    "from sklearn.metrics import confusion_matrix\n",
    "from sklearn.cluster import KMeans"
   ]
  },
  {
   "cell_type": "markdown",
   "metadata": {},
   "source": [
    "### 和之前的操作一致"
   ]
  },
  {
   "cell_type": "code",
   "execution_count": 5,
   "metadata": {
    "collapsed": true
   },
   "outputs": [],
   "source": [
    "def load_dataset(name, nrows=None):\n",
    "    datasets = {\n",
    "        'unlabeled_train': 'unlabeledTrainData.tsv',\n",
    "        'labeled_train': 'labeledTrainData.tsv',\n",
    "        'test': 'testData.tsv'\n",
    "    }\n",
    "    if name not in datasets:\n",
    "        raise ValueError(name)\n",
    "    data_file = os.path.join('..', 'data', datasets[name])\n",
    "    df = pd.read_csv(data_file, sep='\\t', escapechar='\\\\', nrows=nrows)\n",
    "    print('Number of reviews: {}'.format(len(df)))\n",
    "    return df"
   ]
  },
  {
   "cell_type": "code",
   "execution_count": 7,
   "metadata": {
    "collapsed": true
   },
   "outputs": [],
   "source": [
    "# eng_stopwords = set(stopwords.words('english'))\n",
    "eng_stopwords = {}.fromkeys([ line.rstrip() for line in open('../stopwords.txt')])\n",
    "\n",
    "def clean_text(text, remove_stopwords=False):\n",
    "    text = BeautifulSoup(text, 'html.parser').get_text()\n",
    "    text = re.sub(r'[^a-zA-Z]', ' ', text)\n",
    "    words = text.lower().split()\n",
    "    if remove_stopwords:\n",
    "        words = [w for w in words if w not in eng_stopwords]\n",
    "    return words"
   ]
  },
  {
   "cell_type": "markdown",
   "metadata": {},
   "source": [
    "### 读入之前训练好的Word2Vec模型"
   ]
  },
  {
   "cell_type": "code",
   "execution_count": 8,
   "metadata": {
    "collapsed": true
   },
   "outputs": [],
   "source": [
    "model_name = '300features_40minwords_10context.model'\n",
    "model = Word2Vec.load(os.path.join('..', 'models', model_name))"
   ]
  },
  {
   "cell_type": "markdown",
   "metadata": {
    "collapsed": true
   },
   "source": [
    "### 我们可以根据word2vec的结果去对影评文本进行编码\n",
    "\n",
    "编码方式有一点粗暴，简单说来就是把这句话中的词的词向量做平均"
   ]
  },
  {
   "cell_type": "code",
   "execution_count": 9,
   "metadata": {},
   "outputs": [
    {
     "name": "stdout",
     "output_type": "stream",
     "text": [
      "Number of reviews: 25000\n"
     ]
    },
    {
     "data": {
      "text/html": [
       "<div>\n",
       "<style>\n",
       "    .dataframe thead tr:only-child th {\n",
       "        text-align: right;\n",
       "    }\n",
       "\n",
       "    .dataframe thead th {\n",
       "        text-align: left;\n",
       "    }\n",
       "\n",
       "    .dataframe tbody tr th {\n",
       "        vertical-align: top;\n",
       "    }\n",
       "</style>\n",
       "<table border=\"1\" class=\"dataframe\">\n",
       "  <thead>\n",
       "    <tr style=\"text-align: right;\">\n",
       "      <th></th>\n",
       "      <th>id</th>\n",
       "      <th>sentiment</th>\n",
       "      <th>review</th>\n",
       "    </tr>\n",
       "  </thead>\n",
       "  <tbody>\n",
       "    <tr>\n",
       "      <th>0</th>\n",
       "      <td>5814_8</td>\n",
       "      <td>1</td>\n",
       "      <td>With all this stuff going down at the moment w...</td>\n",
       "    </tr>\n",
       "    <tr>\n",
       "      <th>1</th>\n",
       "      <td>2381_9</td>\n",
       "      <td>1</td>\n",
       "      <td>\"The Classic War of the Worlds\" by Timothy Hin...</td>\n",
       "    </tr>\n",
       "    <tr>\n",
       "      <th>2</th>\n",
       "      <td>7759_3</td>\n",
       "      <td>0</td>\n",
       "      <td>The film starts with a manager (Nicholas Bell)...</td>\n",
       "    </tr>\n",
       "    <tr>\n",
       "      <th>3</th>\n",
       "      <td>3630_4</td>\n",
       "      <td>0</td>\n",
       "      <td>It must be assumed that those who praised this...</td>\n",
       "    </tr>\n",
       "    <tr>\n",
       "      <th>4</th>\n",
       "      <td>9495_8</td>\n",
       "      <td>1</td>\n",
       "      <td>Superbly trashy and wondrously unpretentious 8...</td>\n",
       "    </tr>\n",
       "  </tbody>\n",
       "</table>\n",
       "</div>"
      ],
      "text/plain": [
       "       id  sentiment                                             review\n",
       "0  5814_8          1  With all this stuff going down at the moment w...\n",
       "1  2381_9          1  \"The Classic War of the Worlds\" by Timothy Hin...\n",
       "2  7759_3          0  The film starts with a manager (Nicholas Bell)...\n",
       "3  3630_4          0  It must be assumed that those who praised this...\n",
       "4  9495_8          1  Superbly trashy and wondrously unpretentious 8..."
      ]
     },
     "execution_count": 9,
     "metadata": {},
     "output_type": "execute_result"
    }
   ],
   "source": [
    "df = load_dataset('labeled_train')\n",
    "df.head()"
   ]
  },
  {
   "cell_type": "code",
   "execution_count": 10,
   "metadata": {},
   "outputs": [
    {
     "data": {
      "text/plain": [
       "array([ 0.04394694,  0.05369674,  0.08092983, -0.03452746, -0.05322076,\n",
       "       -0.02460469, -0.08408138,  0.06128323,  0.10407756, -0.07784242,\n",
       "        0.07673959,  0.06874307,  0.06069328, -0.05997264,  0.02069032,\n",
       "       -0.08889063,  0.11769066, -0.00737705,  0.00590136,  0.05115112,\n",
       "        0.15071088,  0.0262636 ,  0.01458188, -0.00783722,  0.00996073,\n",
       "        0.04211447,  0.09647947, -0.0935035 ,  0.05298699, -0.02045441,\n",
       "       -0.00226827, -0.10501024,  0.09173818, -0.02053106,  0.00167883,\n",
       "       -0.0346115 ,  0.02186703, -0.01394878,  0.10207272,  0.01215976,\n",
       "        0.13881618, -0.04215522, -0.07350793, -0.11474081,  0.02626938,\n",
       "        0.11274648, -0.01416363,  0.00535241,  0.12130103,  0.0291233 ,\n",
       "        0.04322159, -0.08536672,  0.01844861,  0.07645814, -0.00040104,\n",
       "        0.01078126,  0.08877202,  0.0970154 ,  0.0716213 ,  0.03593608,\n",
       "        0.05678654,  0.01333988, -0.01599465, -0.00681712,  0.03623066,\n",
       "        0.06369489, -0.03352832,  0.00556041,  0.03320808,  0.01917037,\n",
       "       -0.03762574, -0.04003689, -0.01979516,  0.00064924,  0.02173684,\n",
       "        0.05598252,  0.09102552,  0.13169494,  0.06748532, -0.00204696,\n",
       "        0.05797307,  0.04420038, -0.094098  , -0.04483107, -0.02826649,\n",
       "        0.07769373,  0.00294199, -0.05901639,  0.0146116 , -0.10838427,\n",
       "        0.01248733, -0.09424931, -0.12827882, -0.05556982, -0.01476597,\n",
       "        0.04429838,  0.07498412,  0.0045151 , -0.10158469, -0.04201946,\n",
       "       -0.00107559,  0.05797307,  0.0316224 , -0.07645714,  0.02578202,\n",
       "        0.0576187 ,  0.06087774,  0.04226307,  0.05670724, -0.06892436,\n",
       "       -0.0332621 , -0.00533354,  0.01103385, -0.04715071, -0.05214473,\n",
       "       -0.01320499, -0.06683827,  0.03064564,  0.0146086 , -0.0584964 ,\n",
       "        0.09512953,  0.01857132,  0.05147897, -0.00392931, -0.06349371,\n",
       "       -0.01819285, -0.02707776, -0.12790787, -0.06703397, -0.0941016 ,\n",
       "       -0.02873627,  0.05185703, -0.03891653,  0.0148175 ,  0.05601308,\n",
       "       -0.07348691, -0.02880391,  0.08618836,  0.09200655,  0.0137393 ,\n",
       "        0.04966139, -0.04226784, -0.09921571,  0.10921201, -0.01669004,\n",
       "       -0.0322015 , -0.01998178, -0.00294897, -0.04249085, -0.06463258,\n",
       "        0.00579113, -0.05497656, -0.07179814, -0.00914952, -0.02873463,\n",
       "       -0.00944139,  0.0219218 ,  0.00720316, -0.02240793,  0.03166293,\n",
       "        0.02924289, -0.12147834, -0.03607209,  0.04140326,  0.01328533,\n",
       "       -0.00574228, -0.08572464,  0.02118579, -0.0055772 , -0.03738673,\n",
       "        0.02865621, -0.06343533,  0.01402623, -0.1176601 ,  0.01394713,\n",
       "        0.0588851 , -0.09990937,  0.02618338, -0.00021485, -0.0058555 ,\n",
       "       -0.02800875, -0.12339237,  0.12135594,  0.10123451,  0.02458723,\n",
       "       -0.04168551,  0.0591481 ,  0.00391443, -0.05913476, -0.06294708,\n",
       "       -0.01862616,  0.14502576,  0.02718326, -0.00633157, -0.00766292,\n",
       "       -0.02746635,  0.07839154, -0.05350748, -0.06172492,  0.00136181,\n",
       "       -0.07300473, -0.0406037 , -0.01342188, -0.00034548,  0.06464925,\n",
       "        0.04888711,  0.01005046,  0.02251382, -0.09542105,  0.02268334,\n",
       "        0.00660831,  0.04361654,  0.00524161, -0.08067158,  0.06810222,\n",
       "       -0.05131014, -0.05642049,  0.01638008,  0.01279434, -0.11675171,\n",
       "        0.05755435,  0.12587684, -0.01317248, -0.04045917, -0.04468588,\n",
       "        0.05478031,  0.01564385, -0.01679   ,  0.05042709,  0.08797884,\n",
       "        0.02873771, -0.05187571,  0.04442566, -0.05899676, -0.08165834,\n",
       "       -0.03794485,  0.02830807,  0.06748655,  0.03680769,  0.02573172,\n",
       "        0.00947379, -0.00855964,  0.08101813,  0.06255426, -0.04919513,\n",
       "        0.0605236 , -0.09051145,  0.00486551, -0.01011531,  0.08345882,\n",
       "        0.03524664, -0.02512946,  0.08001027, -0.06450789,  0.02264398,\n",
       "        0.06810397,  0.03325287, -0.04477124, -0.01451637, -0.016797  ,\n",
       "        0.04777163,  0.02221894,  0.02900698,  0.08406197, -0.04553908,\n",
       "        0.06460399,  0.00966468,  0.00027771, -0.00092485, -0.0375173 ,\n",
       "        0.02989546,  0.00578749, -0.13178   , -0.02154846, -0.07997896,\n",
       "        0.10625536, -0.00710466, -0.00528797,  0.01238406,  0.01971989,\n",
       "        0.08831228,  0.04308642, -0.05172657, -0.02079725, -0.09169151,\n",
       "        0.05713056, -0.0114893 ,  0.02144101,  0.04830988, -0.06589802,\n",
       "       -0.08085003,  0.00369207,  0.00458837,  0.04137165,  0.00126442,\n",
       "       -0.0060705 , -0.07818382,  0.00048465,  0.01060327, -0.01969738], dtype=float32)"
      ]
     },
     "execution_count": 10,
     "metadata": {},
     "output_type": "execute_result"
    }
   ],
   "source": [
    "model['love']"
   ]
  },
  {
   "cell_type": "code",
   "execution_count": 11,
   "metadata": {
    "collapsed": true
   },
   "outputs": [],
   "source": [
    "def to_review_vector(review):\n",
    "    words = clean_text(review, remove_stopwords=True)\n",
    "    array = np.array([model[w] for w in words if w in model])\n",
    "    return pd.Series(array.mean(axis=0))"
   ]
  },
  {
   "cell_type": "code",
   "execution_count": 12,
   "metadata": {},
   "outputs": [
    {
     "data": {
      "text/html": [
       "<div>\n",
       "<style>\n",
       "    .dataframe thead tr:only-child th {\n",
       "        text-align: right;\n",
       "    }\n",
       "\n",
       "    .dataframe thead th {\n",
       "        text-align: left;\n",
       "    }\n",
       "\n",
       "    .dataframe tbody tr th {\n",
       "        vertical-align: top;\n",
       "    }\n",
       "</style>\n",
       "<table border=\"1\" class=\"dataframe\">\n",
       "  <thead>\n",
       "    <tr style=\"text-align: right;\">\n",
       "      <th></th>\n",
       "      <th>0</th>\n",
       "      <th>1</th>\n",
       "      <th>2</th>\n",
       "      <th>3</th>\n",
       "      <th>4</th>\n",
       "      <th>5</th>\n",
       "      <th>6</th>\n",
       "      <th>7</th>\n",
       "      <th>8</th>\n",
       "      <th>9</th>\n",
       "      <th>...</th>\n",
       "      <th>290</th>\n",
       "      <th>291</th>\n",
       "      <th>292</th>\n",
       "      <th>293</th>\n",
       "      <th>294</th>\n",
       "      <th>295</th>\n",
       "      <th>296</th>\n",
       "      <th>297</th>\n",
       "      <th>298</th>\n",
       "      <th>299</th>\n",
       "    </tr>\n",
       "  </thead>\n",
       "  <tbody>\n",
       "    <tr>\n",
       "      <th>0</th>\n",
       "      <td>0.030023</td>\n",
       "      <td>0.029956</td>\n",
       "      <td>-0.016156</td>\n",
       "      <td>0.007592</td>\n",
       "      <td>0.001252</td>\n",
       "      <td>-0.007221</td>\n",
       "      <td>0.001652</td>\n",
       "      <td>0.002545</td>\n",
       "      <td>0.006790</td>\n",
       "      <td>0.000278</td>\n",
       "      <td>...</td>\n",
       "      <td>-0.019643</td>\n",
       "      <td>-0.000346</td>\n",
       "      <td>-0.007629</td>\n",
       "      <td>-0.015923</td>\n",
       "      <td>0.012045</td>\n",
       "      <td>0.003244</td>\n",
       "      <td>0.003341</td>\n",
       "      <td>-0.012681</td>\n",
       "      <td>-0.000918</td>\n",
       "      <td>0.004719</td>\n",
       "    </tr>\n",
       "    <tr>\n",
       "      <th>1</th>\n",
       "      <td>0.030643</td>\n",
       "      <td>0.011501</td>\n",
       "      <td>0.001342</td>\n",
       "      <td>0.017530</td>\n",
       "      <td>0.008891</td>\n",
       "      <td>-0.017623</td>\n",
       "      <td>0.005670</td>\n",
       "      <td>-0.013038</td>\n",
       "      <td>-0.004778</td>\n",
       "      <td>0.031069</td>\n",
       "      <td>...</td>\n",
       "      <td>-0.021898</td>\n",
       "      <td>-0.014636</td>\n",
       "      <td>-0.001904</td>\n",
       "      <td>-0.051971</td>\n",
       "      <td>-0.001877</td>\n",
       "      <td>0.007129</td>\n",
       "      <td>-0.006705</td>\n",
       "      <td>-0.009252</td>\n",
       "      <td>0.016140</td>\n",
       "      <td>0.013918</td>\n",
       "    </tr>\n",
       "    <tr>\n",
       "      <th>2</th>\n",
       "      <td>-0.002264</td>\n",
       "      <td>0.008187</td>\n",
       "      <td>-0.010805</td>\n",
       "      <td>0.003473</td>\n",
       "      <td>-0.012158</td>\n",
       "      <td>-0.000750</td>\n",
       "      <td>-0.007270</td>\n",
       "      <td>0.039489</td>\n",
       "      <td>-0.001391</td>\n",
       "      <td>0.000328</td>\n",
       "      <td>...</td>\n",
       "      <td>-0.016351</td>\n",
       "      <td>0.012109</td>\n",
       "      <td>-0.048683</td>\n",
       "      <td>-0.016565</td>\n",
       "      <td>0.016170</td>\n",
       "      <td>0.007857</td>\n",
       "      <td>-0.000150</td>\n",
       "      <td>0.010387</td>\n",
       "      <td>-0.023958</td>\n",
       "      <td>0.001242</td>\n",
       "    </tr>\n",
       "    <tr>\n",
       "      <th>3</th>\n",
       "      <td>0.008067</td>\n",
       "      <td>0.019937</td>\n",
       "      <td>-0.002238</td>\n",
       "      <td>-0.000273</td>\n",
       "      <td>-0.012168</td>\n",
       "      <td>-0.008075</td>\n",
       "      <td>0.004959</td>\n",
       "      <td>-0.007353</td>\n",
       "      <td>0.018808</td>\n",
       "      <td>0.010050</td>\n",
       "      <td>...</td>\n",
       "      <td>0.004207</td>\n",
       "      <td>-0.001850</td>\n",
       "      <td>-0.021498</td>\n",
       "      <td>-0.018876</td>\n",
       "      <td>0.008945</td>\n",
       "      <td>0.004867</td>\n",
       "      <td>0.025828</td>\n",
       "      <td>-0.008410</td>\n",
       "      <td>-0.009932</td>\n",
       "      <td>0.016853</td>\n",
       "    </tr>\n",
       "    <tr>\n",
       "      <th>4</th>\n",
       "      <td>0.007507</td>\n",
       "      <td>0.018863</td>\n",
       "      <td>-0.015902</td>\n",
       "      <td>-0.003176</td>\n",
       "      <td>-0.006588</td>\n",
       "      <td>0.006482</td>\n",
       "      <td>0.005634</td>\n",
       "      <td>0.015489</td>\n",
       "      <td>0.006553</td>\n",
       "      <td>-0.009990</td>\n",
       "      <td>...</td>\n",
       "      <td>-0.016796</td>\n",
       "      <td>0.006233</td>\n",
       "      <td>-0.056260</td>\n",
       "      <td>-0.013591</td>\n",
       "      <td>0.015625</td>\n",
       "      <td>-0.003683</td>\n",
       "      <td>0.005536</td>\n",
       "      <td>0.008538</td>\n",
       "      <td>-0.025258</td>\n",
       "      <td>0.011272</td>\n",
       "    </tr>\n",
       "  </tbody>\n",
       "</table>\n",
       "<p>5 rows × 300 columns</p>\n",
       "</div>"
      ],
      "text/plain": [
       "        0         1         2         3         4         5         6    \\\n",
       "0  0.030023  0.029956 -0.016156  0.007592  0.001252 -0.007221  0.001652   \n",
       "1  0.030643  0.011501  0.001342  0.017530  0.008891 -0.017623  0.005670   \n",
       "2 -0.002264  0.008187 -0.010805  0.003473 -0.012158 -0.000750 -0.007270   \n",
       "3  0.008067  0.019937 -0.002238 -0.000273 -0.012168 -0.008075  0.004959   \n",
       "4  0.007507  0.018863 -0.015902 -0.003176 -0.006588  0.006482  0.005634   \n",
       "\n",
       "        7         8         9      ...          290       291       292  \\\n",
       "0  0.002545  0.006790  0.000278    ...    -0.019643 -0.000346 -0.007629   \n",
       "1 -0.013038 -0.004778  0.031069    ...    -0.021898 -0.014636 -0.001904   \n",
       "2  0.039489 -0.001391  0.000328    ...    -0.016351  0.012109 -0.048683   \n",
       "3 -0.007353  0.018808  0.010050    ...     0.004207 -0.001850 -0.021498   \n",
       "4  0.015489  0.006553 -0.009990    ...    -0.016796  0.006233 -0.056260   \n",
       "\n",
       "        293       294       295       296       297       298       299  \n",
       "0 -0.015923  0.012045  0.003244  0.003341 -0.012681 -0.000918  0.004719  \n",
       "1 -0.051971 -0.001877  0.007129 -0.006705 -0.009252  0.016140  0.013918  \n",
       "2 -0.016565  0.016170  0.007857 -0.000150  0.010387 -0.023958  0.001242  \n",
       "3 -0.018876  0.008945  0.004867  0.025828 -0.008410 -0.009932  0.016853  \n",
       "4 -0.013591  0.015625 -0.003683  0.005536  0.008538 -0.025258  0.011272  \n",
       "\n",
       "[5 rows x 300 columns]"
      ]
     },
     "execution_count": 12,
     "metadata": {},
     "output_type": "execute_result"
    }
   ],
   "source": [
    "train_data_features = df.review.apply(to_review_vector)\n",
    "train_data_features.head()"
   ]
  },
  {
   "cell_type": "markdown",
   "metadata": {},
   "source": [
    "### 用随机森林构建分类器"
   ]
  },
  {
   "cell_type": "code",
   "execution_count": 13,
   "metadata": {
    "collapsed": true
   },
   "outputs": [],
   "source": [
    "forest = RandomForestClassifier(n_estimators = 100, random_state=42)\n",
    "forest = forest.fit(train_data_features, df.sentiment)"
   ]
  },
  {
   "cell_type": "markdown",
   "metadata": {},
   "source": [
    "##### 同样在训练集上试试，确保模型能正常work"
   ]
  },
  {
   "cell_type": "code",
   "execution_count": 14,
   "metadata": {},
   "outputs": [
    {
     "data": {
      "text/plain": [
       "array([[12500,     0],\n",
       "       [    0, 12500]])"
      ]
     },
     "execution_count": 14,
     "metadata": {},
     "output_type": "execute_result"
    }
   ],
   "source": [
    "confusion_matrix(df.sentiment, forest.predict(train_data_features))"
   ]
  },
  {
   "cell_type": "markdown",
   "metadata": {},
   "source": [
    "### 清理占用内容的变量"
   ]
  },
  {
   "cell_type": "code",
   "execution_count": 15,
   "metadata": {
    "collapsed": true
   },
   "outputs": [],
   "source": [
    "del df\n",
    "del train_data_features"
   ]
  },
  {
   "cell_type": "markdown",
   "metadata": {},
   "source": [
    "### 预测测试集结果并上传kaggle"
   ]
  },
  {
   "cell_type": "code",
   "execution_count": 16,
   "metadata": {},
   "outputs": [
    {
     "name": "stdout",
     "output_type": "stream",
     "text": [
      "Number of reviews: 25000\n"
     ]
    },
    {
     "data": {
      "text/html": [
       "<div>\n",
       "<style>\n",
       "    .dataframe thead tr:only-child th {\n",
       "        text-align: right;\n",
       "    }\n",
       "\n",
       "    .dataframe thead th {\n",
       "        text-align: left;\n",
       "    }\n",
       "\n",
       "    .dataframe tbody tr th {\n",
       "        vertical-align: top;\n",
       "    }\n",
       "</style>\n",
       "<table border=\"1\" class=\"dataframe\">\n",
       "  <thead>\n",
       "    <tr style=\"text-align: right;\">\n",
       "      <th></th>\n",
       "      <th>id</th>\n",
       "      <th>review</th>\n",
       "    </tr>\n",
       "  </thead>\n",
       "  <tbody>\n",
       "    <tr>\n",
       "      <th>0</th>\n",
       "      <td>12311_10</td>\n",
       "      <td>Naturally in a film who's main themes are of m...</td>\n",
       "    </tr>\n",
       "    <tr>\n",
       "      <th>1</th>\n",
       "      <td>8348_2</td>\n",
       "      <td>This movie is a disaster within a disaster fil...</td>\n",
       "    </tr>\n",
       "    <tr>\n",
       "      <th>2</th>\n",
       "      <td>5828_4</td>\n",
       "      <td>All in all, this is a movie for kids. We saw i...</td>\n",
       "    </tr>\n",
       "    <tr>\n",
       "      <th>3</th>\n",
       "      <td>7186_2</td>\n",
       "      <td>Afraid of the Dark left me with the impression...</td>\n",
       "    </tr>\n",
       "    <tr>\n",
       "      <th>4</th>\n",
       "      <td>12128_7</td>\n",
       "      <td>A very accurate depiction of small time mob li...</td>\n",
       "    </tr>\n",
       "  </tbody>\n",
       "</table>\n",
       "</div>"
      ],
      "text/plain": [
       "         id                                             review\n",
       "0  12311_10  Naturally in a film who's main themes are of m...\n",
       "1    8348_2  This movie is a disaster within a disaster fil...\n",
       "2    5828_4  All in all, this is a movie for kids. We saw i...\n",
       "3    7186_2  Afraid of the Dark left me with the impression...\n",
       "4   12128_7  A very accurate depiction of small time mob li..."
      ]
     },
     "execution_count": 16,
     "metadata": {},
     "output_type": "execute_result"
    }
   ],
   "source": [
    "df = load_dataset('test')\n",
    "df.head()"
   ]
  },
  {
   "cell_type": "code",
   "execution_count": 17,
   "metadata": {},
   "outputs": [
    {
     "data": {
      "text/html": [
       "<div>\n",
       "<style>\n",
       "    .dataframe thead tr:only-child th {\n",
       "        text-align: right;\n",
       "    }\n",
       "\n",
       "    .dataframe thead th {\n",
       "        text-align: left;\n",
       "    }\n",
       "\n",
       "    .dataframe tbody tr th {\n",
       "        vertical-align: top;\n",
       "    }\n",
       "</style>\n",
       "<table border=\"1\" class=\"dataframe\">\n",
       "  <thead>\n",
       "    <tr style=\"text-align: right;\">\n",
       "      <th></th>\n",
       "      <th>0</th>\n",
       "      <th>1</th>\n",
       "      <th>2</th>\n",
       "      <th>3</th>\n",
       "      <th>4</th>\n",
       "      <th>5</th>\n",
       "      <th>6</th>\n",
       "      <th>7</th>\n",
       "      <th>8</th>\n",
       "      <th>9</th>\n",
       "      <th>...</th>\n",
       "      <th>290</th>\n",
       "      <th>291</th>\n",
       "      <th>292</th>\n",
       "      <th>293</th>\n",
       "      <th>294</th>\n",
       "      <th>295</th>\n",
       "      <th>296</th>\n",
       "      <th>297</th>\n",
       "      <th>298</th>\n",
       "      <th>299</th>\n",
       "    </tr>\n",
       "  </thead>\n",
       "  <tbody>\n",
       "    <tr>\n",
       "      <th>0</th>\n",
       "      <td>0.044937</td>\n",
       "      <td>0.026640</td>\n",
       "      <td>-0.020985</td>\n",
       "      <td>-0.000668</td>\n",
       "      <td>-0.016686</td>\n",
       "      <td>-0.003924</td>\n",
       "      <td>-0.001930</td>\n",
       "      <td>0.000945</td>\n",
       "      <td>0.006424</td>\n",
       "      <td>0.005443</td>\n",
       "      <td>...</td>\n",
       "      <td>-0.004149</td>\n",
       "      <td>0.010839</td>\n",
       "      <td>-0.063309</td>\n",
       "      <td>-0.055783</td>\n",
       "      <td>0.028198</td>\n",
       "      <td>-0.001743</td>\n",
       "      <td>0.027613</td>\n",
       "      <td>-0.013500</td>\n",
       "      <td>-0.013135</td>\n",
       "      <td>0.027243</td>\n",
       "    </tr>\n",
       "    <tr>\n",
       "      <th>1</th>\n",
       "      <td>0.048151</td>\n",
       "      <td>0.062075</td>\n",
       "      <td>-0.027988</td>\n",
       "      <td>-0.008301</td>\n",
       "      <td>0.002779</td>\n",
       "      <td>0.006056</td>\n",
       "      <td>-0.004327</td>\n",
       "      <td>-0.018348</td>\n",
       "      <td>0.009714</td>\n",
       "      <td>0.024614</td>\n",
       "      <td>...</td>\n",
       "      <td>-0.022285</td>\n",
       "      <td>-0.010061</td>\n",
       "      <td>-0.023892</td>\n",
       "      <td>-0.032577</td>\n",
       "      <td>0.022270</td>\n",
       "      <td>0.014868</td>\n",
       "      <td>0.033391</td>\n",
       "      <td>-0.013999</td>\n",
       "      <td>0.024013</td>\n",
       "      <td>0.002791</td>\n",
       "    </tr>\n",
       "    <tr>\n",
       "      <th>2</th>\n",
       "      <td>0.047560</td>\n",
       "      <td>0.043983</td>\n",
       "      <td>-0.004736</td>\n",
       "      <td>-0.002596</td>\n",
       "      <td>0.004812</td>\n",
       "      <td>-0.025201</td>\n",
       "      <td>0.013004</td>\n",
       "      <td>-0.030051</td>\n",
       "      <td>0.008570</td>\n",
       "      <td>0.018096</td>\n",
       "      <td>...</td>\n",
       "      <td>0.006398</td>\n",
       "      <td>-0.006216</td>\n",
       "      <td>-0.011681</td>\n",
       "      <td>-0.045860</td>\n",
       "      <td>0.007112</td>\n",
       "      <td>0.001249</td>\n",
       "      <td>0.016637</td>\n",
       "      <td>-0.023928</td>\n",
       "      <td>0.004249</td>\n",
       "      <td>0.014391</td>\n",
       "    </tr>\n",
       "    <tr>\n",
       "      <th>3</th>\n",
       "      <td>0.039483</td>\n",
       "      <td>0.036809</td>\n",
       "      <td>-0.012046</td>\n",
       "      <td>0.001131</td>\n",
       "      <td>-0.001806</td>\n",
       "      <td>0.005945</td>\n",
       "      <td>-0.002101</td>\n",
       "      <td>-0.004565</td>\n",
       "      <td>-0.001990</td>\n",
       "      <td>0.018447</td>\n",
       "      <td>...</td>\n",
       "      <td>-0.012490</td>\n",
       "      <td>-0.009538</td>\n",
       "      <td>-0.035018</td>\n",
       "      <td>-0.019758</td>\n",
       "      <td>0.026294</td>\n",
       "      <td>0.007208</td>\n",
       "      <td>0.008355</td>\n",
       "      <td>0.001082</td>\n",
       "      <td>0.001661</td>\n",
       "      <td>0.021524</td>\n",
       "    </tr>\n",
       "    <tr>\n",
       "      <th>4</th>\n",
       "      <td>0.029964</td>\n",
       "      <td>0.013900</td>\n",
       "      <td>0.000292</td>\n",
       "      <td>0.004766</td>\n",
       "      <td>0.000128</td>\n",
       "      <td>0.016663</td>\n",
       "      <td>-0.001327</td>\n",
       "      <td>0.022154</td>\n",
       "      <td>-0.012872</td>\n",
       "      <td>-0.001490</td>\n",
       "      <td>...</td>\n",
       "      <td>-0.021609</td>\n",
       "      <td>-0.004259</td>\n",
       "      <td>-0.019412</td>\n",
       "      <td>-0.011326</td>\n",
       "      <td>0.017897</td>\n",
       "      <td>-0.008278</td>\n",
       "      <td>0.033263</td>\n",
       "      <td>-0.002070</td>\n",
       "      <td>-0.007387</td>\n",
       "      <td>0.002127</td>\n",
       "    </tr>\n",
       "  </tbody>\n",
       "</table>\n",
       "<p>5 rows × 300 columns</p>\n",
       "</div>"
      ],
      "text/plain": [
       "        0         1         2         3         4         5         6    \\\n",
       "0  0.044937  0.026640 -0.020985 -0.000668 -0.016686 -0.003924 -0.001930   \n",
       "1  0.048151  0.062075 -0.027988 -0.008301  0.002779  0.006056 -0.004327   \n",
       "2  0.047560  0.043983 -0.004736 -0.002596  0.004812 -0.025201  0.013004   \n",
       "3  0.039483  0.036809 -0.012046  0.001131 -0.001806  0.005945 -0.002101   \n",
       "4  0.029964  0.013900  0.000292  0.004766  0.000128  0.016663 -0.001327   \n",
       "\n",
       "        7         8         9      ...          290       291       292  \\\n",
       "0  0.000945  0.006424  0.005443    ...    -0.004149  0.010839 -0.063309   \n",
       "1 -0.018348  0.009714  0.024614    ...    -0.022285 -0.010061 -0.023892   \n",
       "2 -0.030051  0.008570  0.018096    ...     0.006398 -0.006216 -0.011681   \n",
       "3 -0.004565 -0.001990  0.018447    ...    -0.012490 -0.009538 -0.035018   \n",
       "4  0.022154 -0.012872 -0.001490    ...    -0.021609 -0.004259 -0.019412   \n",
       "\n",
       "        293       294       295       296       297       298       299  \n",
       "0 -0.055783  0.028198 -0.001743  0.027613 -0.013500 -0.013135  0.027243  \n",
       "1 -0.032577  0.022270  0.014868  0.033391 -0.013999  0.024013  0.002791  \n",
       "2 -0.045860  0.007112  0.001249  0.016637 -0.023928  0.004249  0.014391  \n",
       "3 -0.019758  0.026294  0.007208  0.008355  0.001082  0.001661  0.021524  \n",
       "4 -0.011326  0.017897 -0.008278  0.033263 -0.002070 -0.007387  0.002127  \n",
       "\n",
       "[5 rows x 300 columns]"
      ]
     },
     "execution_count": 17,
     "metadata": {},
     "output_type": "execute_result"
    }
   ],
   "source": [
    "test_data_features = df.review.apply(to_review_vector)\n",
    "test_data_features.head()"
   ]
  },
  {
   "cell_type": "code",
   "execution_count": 18,
   "metadata": {},
   "outputs": [
    {
     "data": {
      "text/html": [
       "<div>\n",
       "<style>\n",
       "    .dataframe thead tr:only-child th {\n",
       "        text-align: right;\n",
       "    }\n",
       "\n",
       "    .dataframe thead th {\n",
       "        text-align: left;\n",
       "    }\n",
       "\n",
       "    .dataframe tbody tr th {\n",
       "        vertical-align: top;\n",
       "    }\n",
       "</style>\n",
       "<table border=\"1\" class=\"dataframe\">\n",
       "  <thead>\n",
       "    <tr style=\"text-align: right;\">\n",
       "      <th></th>\n",
       "      <th>id</th>\n",
       "      <th>sentiment</th>\n",
       "    </tr>\n",
       "  </thead>\n",
       "  <tbody>\n",
       "    <tr>\n",
       "      <th>0</th>\n",
       "      <td>12311_10</td>\n",
       "      <td>1</td>\n",
       "    </tr>\n",
       "    <tr>\n",
       "      <th>1</th>\n",
       "      <td>8348_2</td>\n",
       "      <td>0</td>\n",
       "    </tr>\n",
       "    <tr>\n",
       "      <th>2</th>\n",
       "      <td>5828_4</td>\n",
       "      <td>1</td>\n",
       "    </tr>\n",
       "    <tr>\n",
       "      <th>3</th>\n",
       "      <td>7186_2</td>\n",
       "      <td>0</td>\n",
       "    </tr>\n",
       "    <tr>\n",
       "      <th>4</th>\n",
       "      <td>12128_7</td>\n",
       "      <td>1</td>\n",
       "    </tr>\n",
       "  </tbody>\n",
       "</table>\n",
       "</div>"
      ],
      "text/plain": [
       "         id  sentiment\n",
       "0  12311_10          1\n",
       "1    8348_2          0\n",
       "2    5828_4          1\n",
       "3    7186_2          0\n",
       "4   12128_7          1"
      ]
     },
     "execution_count": 18,
     "metadata": {},
     "output_type": "execute_result"
    }
   ],
   "source": [
    "result = forest.predict(test_data_features)\n",
    "output = pd.DataFrame({'id':df.id, 'sentiment':result})\n",
    "output.to_csv(os.path.join('..', 'data', 'Word2Vec_model.csv'), index=False)\n",
    "output.head()"
   ]
  },
  {
   "cell_type": "code",
   "execution_count": 19,
   "metadata": {
    "collapsed": true
   },
   "outputs": [],
   "source": [
    "del df\n",
    "del test_data_features\n",
    "del forest"
   ]
  },
  {
   "cell_type": "markdown",
   "metadata": {},
   "source": [
    "------------------\n",
    "### 对词向量进行聚类研究和编码\n",
    "使用Kmeans进行聚类"
   ]
  },
  {
   "cell_type": "code",
   "execution_count": 52,
   "metadata": {},
   "outputs": [
    {
     "data": {
      "text/plain": [
       "(13056, 300)"
      ]
     },
     "execution_count": 52,
     "metadata": {},
     "output_type": "execute_result"
    }
   ],
   "source": [
    "model.syn1neg.shape"
   ]
  },
  {
   "cell_type": "code",
   "execution_count": 50,
   "metadata": {},
   "outputs": [
    {
     "data": {
      "text/plain": [
       "(13056,)"
      ]
     },
     "execution_count": 50,
     "metadata": {},
     "output_type": "execute_result"
    }
   ],
   "source": [
    "model.syn0_lockf.shape"
   ]
  },
  {
   "cell_type": "code",
   "execution_count": 53,
   "metadata": {
    "collapsed": true
   },
   "outputs": [],
   "source": [
    "word_vectors = model.syn1neg\n",
    "num_clusters = word_vectors.shape[0] // 10"
   ]
  },
  {
   "cell_type": "code",
   "execution_count": 56,
   "metadata": {},
   "outputs": [
    {
     "data": {
      "text/plain": [
       "1305"
      ]
     },
     "execution_count": 56,
     "metadata": {},
     "output_type": "execute_result"
    }
   ],
   "source": [
    "num_clusters"
   ]
  },
  {
   "cell_type": "code",
   "execution_count": 57,
   "metadata": {},
   "outputs": [
    {
     "name": "stdout",
     "output_type": "stream",
     "text": [
      "CPU times: user 920 ms, sys: 136 ms, total: 1.06 s\n",
      "Wall time: 3min 26s\n"
     ]
    }
   ],
   "source": [
    "%%time\n",
    "\n",
    "kmeans_clustering = KMeans(n_clusters = num_clusters, n_jobs=4)\n",
    "idx = kmeans_clustering.fit_predict(word_vectors)"
   ]
  },
  {
   "cell_type": "code",
   "execution_count": 59,
   "metadata": {},
   "outputs": [
    {
     "data": {
      "text/plain": [
       "(13056,)"
      ]
     },
     "execution_count": 59,
     "metadata": {},
     "output_type": "execute_result"
    }
   ],
   "source": [
    "idx.shape"
   ]
  },
  {
   "cell_type": "code",
   "execution_count": 65,
   "metadata": {},
   "outputs": [
    {
     "data": {
      "text/plain": [
       "13056"
      ]
     },
     "execution_count": 65,
     "metadata": {},
     "output_type": "execute_result"
    }
   ],
   "source": [
    "len(model.wv.index2word)"
   ]
  },
  {
   "cell_type": "code",
   "execution_count": 67,
   "metadata": {
    "collapsed": true
   },
   "outputs": [],
   "source": [
    "word_centroid_map = dict(zip(model.wv.index2word, idx)) # 将词典中的单词 和 他们的分类所属的类别进行映射"
   ]
  },
  {
   "cell_type": "code",
   "execution_count": 68,
   "metadata": {
    "collapsed": true
   },
   "outputs": [],
   "source": [
    "import pickle\n",
    "\n",
    "filename = 'word_centroid_map_10avg.pickle'\n",
    "with open(os.path.join('..', 'models', filename), 'bw') as f:  # 持久化到文件中\n",
    "    pickle.dump(word_centroid_map, f)\n",
    "    \n",
    "#with open(os.path.join('..', 'models', filename), 'br') as f:\n",
    "#    word_centroid_map = pickle.load(f)    "
   ]
  },
  {
   "cell_type": "markdown",
   "metadata": {},
   "source": [
    "### 输出一些clusters看"
   ]
  },
  {
   "cell_type": "code",
   "execution_count": 69,
   "metadata": {},
   "outputs": [
    {
     "name": "stdout",
     "output_type": "stream",
     "text": [
      "\n",
      "Cluster 0\n",
      "['watched']\n",
      "\n",
      "Cluster 1\n",
      "['exposure', 'goods', 'arguments', 'agony', 'speeches', 'layer', 'observation', 'misplaced', 'interpretations', 'weirdness', 'nuances', 'envelope', 'cynicism', 'demeanor', 'gesture', 'incomplete', 'gloss', 'oneself', 'alarm', 'characteristic', 'monologues', 'annoyance', 'insider', 'andromeda', 'nuance', 'barrier', 'ridicule', 'incompetence', 'indifference', 'disdain', 'responses', 'endeavor', 'agreement', 'finesse', 'thematic', 'grit', 'amuse', 'lingers', 'occurrence', 'essay', 'strains', 'gears', 'spectator', 'amazement', 'drastic', 'dismay', 'reflective', 'insistence', 'trait', 'spellbound', 'incessant', 'aplomb', 'climaxes', 'speculation', 'misunderstandings', 'curve', 'chord', 'expertise', 'paradox', 'histrionics', 'glances', 'surrealist', 'fore', 'craftsmanship', 'discomfort', 'ceases', 'ingenuity', 'filmic', 'foreshadowing', 'analogy', 'ridiculousness', 'epilogue', 'irritation', 'competence', 'empathise', 'lows', 'schizophrenia', 'damaging', 'scrutiny']\n",
      "\n",
      "Cluster 2\n",
      "['affair', 'fallen', 'triangle', 'guru', 'enduring', 'madly', 'unrequited']\n",
      "\n",
      "Cluster 3\n",
      "['bizarre', 'magical', 'horrific', 'striking', 'grim', 'chilling', 'unsettling', 'astonishing', 'nerve', 'horrifying', 'startling', 'harrowing', 'morbid', 'devastating', 'grisly', 'sickening', 'mesmerizing', 'visceral', 'nightmarish', 'unnerving', 'potent', 'exhilarating']\n",
      "\n",
      "Cluster 4\n",
      "['tour', 'rome']\n",
      "\n",
      "Cluster 5\n",
      "['because', 'since', 'unfortunately', 'sadly', 'judge', 'thankfully', 'fortunately', 'alas', 'luckily']\n",
      "\n",
      "Cluster 6\n",
      "['stuff', 'hilarious', 'hysterical', 'antics', 'guests', 'wacky', 'banter', 'parodies', 'zany', 'skits', 'skit', 'poke', 'pokes', 'poking', 'pranks']\n",
      "\n",
      "Cluster 7\n",
      "['antonio', 'olivier', 'otto', 'bruno', 'holland', 'luis', 'kumar', 'meyer', 'fran', 'abel', 'bing', 'fernando', 'terence', 'rudolph', 'longtime', 'shane', 'marco', 'lars', 'pedro', 'mckee', 'menjou', 'gerard', 'cleopatra', 'tailor', 'novarro', 'whit', 'marcel', 'snyder', 'frederick', 'renoir', 'reportedly', 'playwright', 'kazan', 'philippe', 'capra', 'han', 'hugo', 'gil', 'chang', 'wilde', 'archie', 'alain', 'yoko', 'guidance', 'robson', 'preminger', 'hawks', 'forsyth', 'edwin', 'augustus', 'rollin', 'andreas', 'wyler', 'caligula', 'arbuckle', 'branagh', 'molina', 'francois', 'solomon', 'karan']\n",
      "\n",
      "Cluster 8\n",
      "['plan', 'bank', 'rob', 'robbery', 'fortune', 'scheme', 'route', 'heist', 'keys', 'robbing', 'loot', 'ransom']\n",
      "\n",
      "Cluster 9\n",
      "['actual', 'issue', 'artistic', 'technical', 'individual', 'regarding', 'critical', 'initial', 'harsh', 'scientific', 'sole', 'solely', 'glowing', 'abortion', 'dubious', 'splitting', 'external']\n"
     ]
    }
   ],
   "source": [
    "for cluster in range(0,10):\n",
    "    print(\"\\nCluster %d\" % cluster)\n",
    "    print([w for w,c in word_centroid_map.items() if c == cluster])"
   ]
  },
  {
   "cell_type": "markdown",
   "metadata": {},
   "source": [
    "### 把评论数据转成cluster bag vectors"
   ]
  },
  {
   "cell_type": "code",
   "execution_count": 70,
   "metadata": {
    "collapsed": true
   },
   "outputs": [],
   "source": [
    "wordset = set(word_centroid_map.keys())\n",
    "\n",
    "def make_cluster_bag(review):\n",
    "    words = clean_text(review, remove_stopwords=True)\n",
    "    return (pd.Series([word_centroid_map[w] for w in words if w in wordset])\n",
    "              .value_counts()\n",
    "              .reindex(range(num_clusters+1), fill_value=0)) # 找到各个单词属于哪个类，计算每个类别出现的次数，作为句子的特征向量该位置处的值"
   ]
  },
  {
   "cell_type": "code",
   "execution_count": 71,
   "metadata": {},
   "outputs": [
    {
     "name": "stdout",
     "output_type": "stream",
     "text": [
      "Number of reviews: 25000\n"
     ]
    },
    {
     "data": {
      "text/html": [
       "<div>\n",
       "<style>\n",
       "    .dataframe thead tr:only-child th {\n",
       "        text-align: right;\n",
       "    }\n",
       "\n",
       "    .dataframe thead th {\n",
       "        text-align: left;\n",
       "    }\n",
       "\n",
       "    .dataframe tbody tr th {\n",
       "        vertical-align: top;\n",
       "    }\n",
       "</style>\n",
       "<table border=\"1\" class=\"dataframe\">\n",
       "  <thead>\n",
       "    <tr style=\"text-align: right;\">\n",
       "      <th></th>\n",
       "      <th>id</th>\n",
       "      <th>sentiment</th>\n",
       "      <th>review</th>\n",
       "    </tr>\n",
       "  </thead>\n",
       "  <tbody>\n",
       "    <tr>\n",
       "      <th>0</th>\n",
       "      <td>5814_8</td>\n",
       "      <td>1</td>\n",
       "      <td>With all this stuff going down at the moment w...</td>\n",
       "    </tr>\n",
       "    <tr>\n",
       "      <th>1</th>\n",
       "      <td>2381_9</td>\n",
       "      <td>1</td>\n",
       "      <td>\"The Classic War of the Worlds\" by Timothy Hin...</td>\n",
       "    </tr>\n",
       "    <tr>\n",
       "      <th>2</th>\n",
       "      <td>7759_3</td>\n",
       "      <td>0</td>\n",
       "      <td>The film starts with a manager (Nicholas Bell)...</td>\n",
       "    </tr>\n",
       "    <tr>\n",
       "      <th>3</th>\n",
       "      <td>3630_4</td>\n",
       "      <td>0</td>\n",
       "      <td>It must be assumed that those who praised this...</td>\n",
       "    </tr>\n",
       "    <tr>\n",
       "      <th>4</th>\n",
       "      <td>9495_8</td>\n",
       "      <td>1</td>\n",
       "      <td>Superbly trashy and wondrously unpretentious 8...</td>\n",
       "    </tr>\n",
       "  </tbody>\n",
       "</table>\n",
       "</div>"
      ],
      "text/plain": [
       "       id  sentiment                                             review\n",
       "0  5814_8          1  With all this stuff going down at the moment w...\n",
       "1  2381_9          1  \"The Classic War of the Worlds\" by Timothy Hin...\n",
       "2  7759_3          0  The film starts with a manager (Nicholas Bell)...\n",
       "3  3630_4          0  It must be assumed that those who praised this...\n",
       "4  9495_8          1  Superbly trashy and wondrously unpretentious 8..."
      ]
     },
     "execution_count": 71,
     "metadata": {},
     "output_type": "execute_result"
    }
   ],
   "source": [
    "df = load_dataset('labeled_train')\n",
    "df.head()"
   ]
  },
  {
   "cell_type": "code",
   "execution_count": 72,
   "metadata": {
    "scrolled": true
   },
   "outputs": [
    {
     "data": {
      "text/html": [
       "<div>\n",
       "<style>\n",
       "    .dataframe thead tr:only-child th {\n",
       "        text-align: right;\n",
       "    }\n",
       "\n",
       "    .dataframe thead th {\n",
       "        text-align: left;\n",
       "    }\n",
       "\n",
       "    .dataframe tbody tr th {\n",
       "        vertical-align: top;\n",
       "    }\n",
       "</style>\n",
       "<table border=\"1\" class=\"dataframe\">\n",
       "  <thead>\n",
       "    <tr style=\"text-align: right;\">\n",
       "      <th></th>\n",
       "      <th>0</th>\n",
       "      <th>1</th>\n",
       "      <th>2</th>\n",
       "      <th>3</th>\n",
       "      <th>4</th>\n",
       "      <th>5</th>\n",
       "      <th>6</th>\n",
       "      <th>7</th>\n",
       "      <th>8</th>\n",
       "      <th>9</th>\n",
       "      <th>...</th>\n",
       "      <th>1296</th>\n",
       "      <th>1297</th>\n",
       "      <th>1298</th>\n",
       "      <th>1299</th>\n",
       "      <th>1300</th>\n",
       "      <th>1301</th>\n",
       "      <th>1302</th>\n",
       "      <th>1303</th>\n",
       "      <th>1304</th>\n",
       "      <th>1305</th>\n",
       "    </tr>\n",
       "  </thead>\n",
       "  <tbody>\n",
       "    <tr>\n",
       "      <th>0</th>\n",
       "      <td>2</td>\n",
       "      <td>0</td>\n",
       "      <td>0</td>\n",
       "      <td>0</td>\n",
       "      <td>0</td>\n",
       "      <td>0</td>\n",
       "      <td>1</td>\n",
       "      <td>0</td>\n",
       "      <td>0</td>\n",
       "      <td>1</td>\n",
       "      <td>...</td>\n",
       "      <td>0</td>\n",
       "      <td>0</td>\n",
       "      <td>0</td>\n",
       "      <td>0</td>\n",
       "      <td>0</td>\n",
       "      <td>0</td>\n",
       "      <td>0</td>\n",
       "      <td>0</td>\n",
       "      <td>0</td>\n",
       "      <td>0</td>\n",
       "    </tr>\n",
       "    <tr>\n",
       "      <th>1</th>\n",
       "      <td>1</td>\n",
       "      <td>0</td>\n",
       "      <td>0</td>\n",
       "      <td>0</td>\n",
       "      <td>0</td>\n",
       "      <td>0</td>\n",
       "      <td>0</td>\n",
       "      <td>0</td>\n",
       "      <td>0</td>\n",
       "      <td>0</td>\n",
       "      <td>...</td>\n",
       "      <td>0</td>\n",
       "      <td>0</td>\n",
       "      <td>0</td>\n",
       "      <td>0</td>\n",
       "      <td>0</td>\n",
       "      <td>0</td>\n",
       "      <td>0</td>\n",
       "      <td>0</td>\n",
       "      <td>0</td>\n",
       "      <td>0</td>\n",
       "    </tr>\n",
       "    <tr>\n",
       "      <th>2</th>\n",
       "      <td>0</td>\n",
       "      <td>0</td>\n",
       "      <td>0</td>\n",
       "      <td>0</td>\n",
       "      <td>0</td>\n",
       "      <td>0</td>\n",
       "      <td>0</td>\n",
       "      <td>0</td>\n",
       "      <td>0</td>\n",
       "      <td>2</td>\n",
       "      <td>...</td>\n",
       "      <td>0</td>\n",
       "      <td>0</td>\n",
       "      <td>0</td>\n",
       "      <td>0</td>\n",
       "      <td>0</td>\n",
       "      <td>0</td>\n",
       "      <td>0</td>\n",
       "      <td>0</td>\n",
       "      <td>0</td>\n",
       "      <td>0</td>\n",
       "    </tr>\n",
       "    <tr>\n",
       "      <th>3</th>\n",
       "      <td>0</td>\n",
       "      <td>1</td>\n",
       "      <td>0</td>\n",
       "      <td>0</td>\n",
       "      <td>0</td>\n",
       "      <td>0</td>\n",
       "      <td>0</td>\n",
       "      <td>0</td>\n",
       "      <td>0</td>\n",
       "      <td>0</td>\n",
       "      <td>...</td>\n",
       "      <td>0</td>\n",
       "      <td>0</td>\n",
       "      <td>0</td>\n",
       "      <td>0</td>\n",
       "      <td>0</td>\n",
       "      <td>0</td>\n",
       "      <td>0</td>\n",
       "      <td>0</td>\n",
       "      <td>0</td>\n",
       "      <td>0</td>\n",
       "    </tr>\n",
       "    <tr>\n",
       "      <th>4</th>\n",
       "      <td>0</td>\n",
       "      <td>0</td>\n",
       "      <td>0</td>\n",
       "      <td>1</td>\n",
       "      <td>0</td>\n",
       "      <td>0</td>\n",
       "      <td>0</td>\n",
       "      <td>0</td>\n",
       "      <td>0</td>\n",
       "      <td>1</td>\n",
       "      <td>...</td>\n",
       "      <td>0</td>\n",
       "      <td>0</td>\n",
       "      <td>0</td>\n",
       "      <td>0</td>\n",
       "      <td>0</td>\n",
       "      <td>0</td>\n",
       "      <td>0</td>\n",
       "      <td>0</td>\n",
       "      <td>0</td>\n",
       "      <td>0</td>\n",
       "    </tr>\n",
       "  </tbody>\n",
       "</table>\n",
       "<p>5 rows × 1306 columns</p>\n",
       "</div>"
      ],
      "text/plain": [
       "   0     1     2     3     4     5     6     7     8     9     ...   1296  \\\n",
       "0     2     0     0     0     0     0     1     0     0     1  ...      0   \n",
       "1     1     0     0     0     0     0     0     0     0     0  ...      0   \n",
       "2     0     0     0     0     0     0     0     0     0     2  ...      0   \n",
       "3     0     1     0     0     0     0     0     0     0     0  ...      0   \n",
       "4     0     0     0     1     0     0     0     0     0     1  ...      0   \n",
       "\n",
       "   1297  1298  1299  1300  1301  1302  1303  1304  1305  \n",
       "0     0     0     0     0     0     0     0     0     0  \n",
       "1     0     0     0     0     0     0     0     0     0  \n",
       "2     0     0     0     0     0     0     0     0     0  \n",
       "3     0     0     0     0     0     0     0     0     0  \n",
       "4     0     0     0     0     0     0     0     0     0  \n",
       "\n",
       "[5 rows x 1306 columns]"
      ]
     },
     "execution_count": 72,
     "metadata": {},
     "output_type": "execute_result"
    }
   ],
   "source": [
    "train_data_features = df.review.apply(make_cluster_bag)\n",
    "train_data_features.head()"
   ]
  },
  {
   "cell_type": "markdown",
   "metadata": {},
   "source": [
    "### 再用随机森林算法建模"
   ]
  },
  {
   "cell_type": "code",
   "execution_count": 73,
   "metadata": {
    "collapsed": true
   },
   "outputs": [],
   "source": [
    "forest = RandomForestClassifier(n_estimators = 100, random_state=42)\n",
    "forest = forest.fit(train_data_features, df.sentiment)"
   ]
  },
  {
   "cell_type": "markdown",
   "metadata": {},
   "source": [
    "##### 在训练集上试一试效果"
   ]
  },
  {
   "cell_type": "code",
   "execution_count": 74,
   "metadata": {},
   "outputs": [
    {
     "data": {
      "text/plain": [
       "array([[12500,     0],\n",
       "       [    0, 12500]])"
      ]
     },
     "execution_count": 74,
     "metadata": {},
     "output_type": "execute_result"
    }
   ],
   "source": [
    "confusion_matrix(df.sentiment, forest.predict(train_data_features))"
   ]
  },
  {
   "cell_type": "markdown",
   "metadata": {},
   "source": [
    "#### 去掉无用的占内存的量"
   ]
  },
  {
   "cell_type": "code",
   "execution_count": 75,
   "metadata": {
    "collapsed": true
   },
   "outputs": [],
   "source": [
    "del df\n",
    "del train_data_features"
   ]
  },
  {
   "cell_type": "markdown",
   "metadata": {},
   "source": [
    "### 载入测试数据做预测"
   ]
  },
  {
   "cell_type": "code",
   "execution_count": 76,
   "metadata": {},
   "outputs": [
    {
     "name": "stdout",
     "output_type": "stream",
     "text": [
      "Number of reviews: 25000\n"
     ]
    },
    {
     "data": {
      "text/html": [
       "<div>\n",
       "<style>\n",
       "    .dataframe thead tr:only-child th {\n",
       "        text-align: right;\n",
       "    }\n",
       "\n",
       "    .dataframe thead th {\n",
       "        text-align: left;\n",
       "    }\n",
       "\n",
       "    .dataframe tbody tr th {\n",
       "        vertical-align: top;\n",
       "    }\n",
       "</style>\n",
       "<table border=\"1\" class=\"dataframe\">\n",
       "  <thead>\n",
       "    <tr style=\"text-align: right;\">\n",
       "      <th></th>\n",
       "      <th>id</th>\n",
       "      <th>review</th>\n",
       "    </tr>\n",
       "  </thead>\n",
       "  <tbody>\n",
       "    <tr>\n",
       "      <th>0</th>\n",
       "      <td>12311_10</td>\n",
       "      <td>Naturally in a film who's main themes are of m...</td>\n",
       "    </tr>\n",
       "    <tr>\n",
       "      <th>1</th>\n",
       "      <td>8348_2</td>\n",
       "      <td>This movie is a disaster within a disaster fil...</td>\n",
       "    </tr>\n",
       "    <tr>\n",
       "      <th>2</th>\n",
       "      <td>5828_4</td>\n",
       "      <td>All in all, this is a movie for kids. We saw i...</td>\n",
       "    </tr>\n",
       "    <tr>\n",
       "      <th>3</th>\n",
       "      <td>7186_2</td>\n",
       "      <td>Afraid of the Dark left me with the impression...</td>\n",
       "    </tr>\n",
       "    <tr>\n",
       "      <th>4</th>\n",
       "      <td>12128_7</td>\n",
       "      <td>A very accurate depiction of small time mob li...</td>\n",
       "    </tr>\n",
       "  </tbody>\n",
       "</table>\n",
       "</div>"
      ],
      "text/plain": [
       "         id                                             review\n",
       "0  12311_10  Naturally in a film who's main themes are of m...\n",
       "1    8348_2  This movie is a disaster within a disaster fil...\n",
       "2    5828_4  All in all, this is a movie for kids. We saw i...\n",
       "3    7186_2  Afraid of the Dark left me with the impression...\n",
       "4   12128_7  A very accurate depiction of small time mob li..."
      ]
     },
     "execution_count": 76,
     "metadata": {},
     "output_type": "execute_result"
    }
   ],
   "source": [
    "df = load_dataset('test')\n",
    "df.head()"
   ]
  },
  {
   "cell_type": "code",
   "execution_count": 77,
   "metadata": {},
   "outputs": [
    {
     "data": {
      "text/html": [
       "<div>\n",
       "<style>\n",
       "    .dataframe thead tr:only-child th {\n",
       "        text-align: right;\n",
       "    }\n",
       "\n",
       "    .dataframe thead th {\n",
       "        text-align: left;\n",
       "    }\n",
       "\n",
       "    .dataframe tbody tr th {\n",
       "        vertical-align: top;\n",
       "    }\n",
       "</style>\n",
       "<table border=\"1\" class=\"dataframe\">\n",
       "  <thead>\n",
       "    <tr style=\"text-align: right;\">\n",
       "      <th></th>\n",
       "      <th>0</th>\n",
       "      <th>1</th>\n",
       "      <th>2</th>\n",
       "      <th>3</th>\n",
       "      <th>4</th>\n",
       "      <th>5</th>\n",
       "      <th>6</th>\n",
       "      <th>7</th>\n",
       "      <th>8</th>\n",
       "      <th>9</th>\n",
       "      <th>...</th>\n",
       "      <th>1296</th>\n",
       "      <th>1297</th>\n",
       "      <th>1298</th>\n",
       "      <th>1299</th>\n",
       "      <th>1300</th>\n",
       "      <th>1301</th>\n",
       "      <th>1302</th>\n",
       "      <th>1303</th>\n",
       "      <th>1304</th>\n",
       "      <th>1305</th>\n",
       "    </tr>\n",
       "  </thead>\n",
       "  <tbody>\n",
       "    <tr>\n",
       "      <th>0</th>\n",
       "      <td>0</td>\n",
       "      <td>1</td>\n",
       "      <td>0</td>\n",
       "      <td>0</td>\n",
       "      <td>0</td>\n",
       "      <td>0</td>\n",
       "      <td>0</td>\n",
       "      <td>0</td>\n",
       "      <td>0</td>\n",
       "      <td>0</td>\n",
       "      <td>...</td>\n",
       "      <td>0</td>\n",
       "      <td>0</td>\n",
       "      <td>0</td>\n",
       "      <td>0</td>\n",
       "      <td>0</td>\n",
       "      <td>0</td>\n",
       "      <td>0</td>\n",
       "      <td>0</td>\n",
       "      <td>0</td>\n",
       "      <td>0</td>\n",
       "    </tr>\n",
       "    <tr>\n",
       "      <th>1</th>\n",
       "      <td>0</td>\n",
       "      <td>0</td>\n",
       "      <td>0</td>\n",
       "      <td>0</td>\n",
       "      <td>0</td>\n",
       "      <td>0</td>\n",
       "      <td>0</td>\n",
       "      <td>0</td>\n",
       "      <td>0</td>\n",
       "      <td>0</td>\n",
       "      <td>...</td>\n",
       "      <td>0</td>\n",
       "      <td>0</td>\n",
       "      <td>0</td>\n",
       "      <td>0</td>\n",
       "      <td>0</td>\n",
       "      <td>0</td>\n",
       "      <td>0</td>\n",
       "      <td>0</td>\n",
       "      <td>0</td>\n",
       "      <td>0</td>\n",
       "    </tr>\n",
       "    <tr>\n",
       "      <th>2</th>\n",
       "      <td>0</td>\n",
       "      <td>0</td>\n",
       "      <td>0</td>\n",
       "      <td>0</td>\n",
       "      <td>0</td>\n",
       "      <td>0</td>\n",
       "      <td>0</td>\n",
       "      <td>0</td>\n",
       "      <td>0</td>\n",
       "      <td>0</td>\n",
       "      <td>...</td>\n",
       "      <td>0</td>\n",
       "      <td>0</td>\n",
       "      <td>0</td>\n",
       "      <td>0</td>\n",
       "      <td>0</td>\n",
       "      <td>0</td>\n",
       "      <td>0</td>\n",
       "      <td>0</td>\n",
       "      <td>0</td>\n",
       "      <td>0</td>\n",
       "    </tr>\n",
       "    <tr>\n",
       "      <th>3</th>\n",
       "      <td>0</td>\n",
       "      <td>0</td>\n",
       "      <td>0</td>\n",
       "      <td>0</td>\n",
       "      <td>0</td>\n",
       "      <td>0</td>\n",
       "      <td>0</td>\n",
       "      <td>0</td>\n",
       "      <td>0</td>\n",
       "      <td>0</td>\n",
       "      <td>...</td>\n",
       "      <td>0</td>\n",
       "      <td>0</td>\n",
       "      <td>0</td>\n",
       "      <td>0</td>\n",
       "      <td>0</td>\n",
       "      <td>1</td>\n",
       "      <td>0</td>\n",
       "      <td>0</td>\n",
       "      <td>0</td>\n",
       "      <td>0</td>\n",
       "    </tr>\n",
       "    <tr>\n",
       "      <th>4</th>\n",
       "      <td>0</td>\n",
       "      <td>0</td>\n",
       "      <td>0</td>\n",
       "      <td>0</td>\n",
       "      <td>0</td>\n",
       "      <td>0</td>\n",
       "      <td>0</td>\n",
       "      <td>0</td>\n",
       "      <td>0</td>\n",
       "      <td>0</td>\n",
       "      <td>...</td>\n",
       "      <td>0</td>\n",
       "      <td>0</td>\n",
       "      <td>0</td>\n",
       "      <td>0</td>\n",
       "      <td>0</td>\n",
       "      <td>0</td>\n",
       "      <td>0</td>\n",
       "      <td>0</td>\n",
       "      <td>0</td>\n",
       "      <td>0</td>\n",
       "    </tr>\n",
       "  </tbody>\n",
       "</table>\n",
       "<p>5 rows × 1306 columns</p>\n",
       "</div>"
      ],
      "text/plain": [
       "   0     1     2     3     4     5     6     7     8     9     ...   1296  \\\n",
       "0     0     1     0     0     0     0     0     0     0     0  ...      0   \n",
       "1     0     0     0     0     0     0     0     0     0     0  ...      0   \n",
       "2     0     0     0     0     0     0     0     0     0     0  ...      0   \n",
       "3     0     0     0     0     0     0     0     0     0     0  ...      0   \n",
       "4     0     0     0     0     0     0     0     0     0     0  ...      0   \n",
       "\n",
       "   1297  1298  1299  1300  1301  1302  1303  1304  1305  \n",
       "0     0     0     0     0     0     0     0     0     0  \n",
       "1     0     0     0     0     0     0     0     0     0  \n",
       "2     0     0     0     0     0     0     0     0     0  \n",
       "3     0     0     0     0     1     0     0     0     0  \n",
       "4     0     0     0     0     0     0     0     0     0  \n",
       "\n",
       "[5 rows x 1306 columns]"
      ]
     },
     "execution_count": 77,
     "metadata": {},
     "output_type": "execute_result"
    }
   ],
   "source": [
    "test_data_features = df.review.apply(make_cluster_bag)\n",
    "test_data_features.head()"
   ]
  },
  {
   "cell_type": "code",
   "execution_count": 78,
   "metadata": {},
   "outputs": [
    {
     "data": {
      "text/html": [
       "<div>\n",
       "<style>\n",
       "    .dataframe thead tr:only-child th {\n",
       "        text-align: right;\n",
       "    }\n",
       "\n",
       "    .dataframe thead th {\n",
       "        text-align: left;\n",
       "    }\n",
       "\n",
       "    .dataframe tbody tr th {\n",
       "        vertical-align: top;\n",
       "    }\n",
       "</style>\n",
       "<table border=\"1\" class=\"dataframe\">\n",
       "  <thead>\n",
       "    <tr style=\"text-align: right;\">\n",
       "      <th></th>\n",
       "      <th>id</th>\n",
       "      <th>sentiment</th>\n",
       "    </tr>\n",
       "  </thead>\n",
       "  <tbody>\n",
       "    <tr>\n",
       "      <th>0</th>\n",
       "      <td>12311_10</td>\n",
       "      <td>1</td>\n",
       "    </tr>\n",
       "    <tr>\n",
       "      <th>1</th>\n",
       "      <td>8348_2</td>\n",
       "      <td>0</td>\n",
       "    </tr>\n",
       "    <tr>\n",
       "      <th>2</th>\n",
       "      <td>5828_4</td>\n",
       "      <td>1</td>\n",
       "    </tr>\n",
       "    <tr>\n",
       "      <th>3</th>\n",
       "      <td>7186_2</td>\n",
       "      <td>0</td>\n",
       "    </tr>\n",
       "    <tr>\n",
       "      <th>4</th>\n",
       "      <td>12128_7</td>\n",
       "      <td>0</td>\n",
       "    </tr>\n",
       "  </tbody>\n",
       "</table>\n",
       "</div>"
      ],
      "text/plain": [
       "         id  sentiment\n",
       "0  12311_10          1\n",
       "1    8348_2          0\n",
       "2    5828_4          1\n",
       "3    7186_2          0\n",
       "4   12128_7          0"
      ]
     },
     "execution_count": 78,
     "metadata": {},
     "output_type": "execute_result"
    }
   ],
   "source": [
    "result = forest.predict(test_data_features)\n",
    "output = pd.DataFrame({'id':df.id, 'sentiment':result})\n",
    "output.to_csv(os.path.join('..', 'data', 'Word2Vec_BagOfClusters.csv'), index=False)\n",
    "output.head()"
   ]
  },
  {
   "cell_type": "code",
   "execution_count": 79,
   "metadata": {
    "collapsed": true
   },
   "outputs": [],
   "source": [
    "del df\n",
    "del test_data_features\n",
    "del forest"
   ]
  }
 ],
 "metadata": {
  "kernelspec": {
   "display_name": "Python 3",
   "language": "python",
   "name": "python3"
  },
  "language_info": {
   "codemirror_mode": {
    "name": "ipython",
    "version": 3
   },
   "file_extension": ".py",
   "mimetype": "text/x-python",
   "name": "python",
   "nbconvert_exporter": "python",
   "pygments_lexer": "ipython3",
   "version": "3.6.1"
  }
 },
 "nbformat": 4,
 "nbformat_minor": 1
}
