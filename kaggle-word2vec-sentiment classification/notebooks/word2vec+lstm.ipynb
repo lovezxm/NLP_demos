{
 "cells": [
  {
   "cell_type": "markdown",
   "metadata": {},
   "source": [
    "## 在word2vec+LSTM情感分析"
   ]
  },
  {
   "cell_type": "code",
   "execution_count": 3,
   "metadata": {},
   "outputs": [
    {
     "name": "stderr",
     "output_type": "stream",
     "text": [
      "Using TensorFlow backend.\n"
     ]
    }
   ],
   "source": [
    "import os\n",
    "import re\n",
    "import numpy as np\n",
    "import pandas as pd\n",
    "\n",
    "from bs4 import BeautifulSoup\n",
    "\n",
    "#from nltk.corpus import stopwords\n",
    "\n",
    "from gensim.models.word2vec import Word2Vec"
   ]
  },
  {
   "cell_type": "markdown",
   "metadata": {},
   "source": [
    "### 读取数据"
   ]
  },
  {
   "cell_type": "code",
   "execution_count": 4,
   "metadata": {
    "collapsed": true
   },
   "outputs": [],
   "source": [
    "def load_dataset(name, nrows=None):\n",
    "    datasets = {\n",
    "        'unlabeled_train': 'unlabeledTrainData.tsv',\n",
    "        'labeled_train': 'labeledTrainData.tsv',\n",
    "        'test': 'testData.tsv'\n",
    "    }\n",
    "    if name not in datasets:\n",
    "        raise ValueError(name)\n",
    "    data_file = os.path.join('..', 'data', datasets[name])\n",
    "    df = pd.read_csv(data_file, sep='\\t', escapechar='\\\\', nrows=nrows)\n",
    "    print('Number of reviews: {}'.format(len(df)))\n",
    "    return df"
   ]
  },
  {
   "cell_type": "markdown",
   "metadata": {},
   "source": [
    "### 清洗评论文本"
   ]
  },
  {
   "cell_type": "code",
   "execution_count": 6,
   "metadata": {
    "collapsed": true
   },
   "outputs": [],
   "source": [
    "# eng_stopwords = set(stopwords.words('english'))\n",
    "eng_stopwords = {}.fromkeys([ line.rstrip() for line in open('../stopwords.txt')])\n",
    "\n",
    "def clean_text(text, remove_stopwords=False):\n",
    "    text = BeautifulSoup(text, 'html.parser').get_text()\n",
    "    text = re.sub(r'[^a-zA-Z]', ' ', text)\n",
    "    words = text.lower().split()\n",
    "    if remove_stopwords:\n",
    "        words = [w for w in words if w not in eng_stopwords]\n",
    "    return words"
   ]
  },
  {
   "cell_type": "markdown",
   "metadata": {},
   "source": [
    "### 读入之前训练好的Word2Vec模型"
   ]
  },
  {
   "cell_type": "code",
   "execution_count": 7,
   "metadata": {
    "collapsed": true
   },
   "outputs": [],
   "source": [
    "model_name = '300features_40minwords_10context.model'\n",
    "model = Word2Vec.load(os.path.join('..', 'models', model_name))"
   ]
  },
  {
   "cell_type": "markdown",
   "metadata": {},
   "source": [
    "### 根据word2vec的结果去对影评文本进行编码\n",
    "编码方式有一点粗暴，简单说来就是把这句话中的词的词向量做平均"
   ]
  },
  {
   "cell_type": "code",
   "execution_count": 8,
   "metadata": {},
   "outputs": [
    {
     "name": "stdout",
     "output_type": "stream",
     "text": [
      "Number of reviews: 25000\n"
     ]
    },
    {
     "data": {
      "text/html": [
       "<div>\n",
       "<style>\n",
       "    .dataframe thead tr:only-child th {\n",
       "        text-align: right;\n",
       "    }\n",
       "\n",
       "    .dataframe thead th {\n",
       "        text-align: left;\n",
       "    }\n",
       "\n",
       "    .dataframe tbody tr th {\n",
       "        vertical-align: top;\n",
       "    }\n",
       "</style>\n",
       "<table border=\"1\" class=\"dataframe\">\n",
       "  <thead>\n",
       "    <tr style=\"text-align: right;\">\n",
       "      <th></th>\n",
       "      <th>id</th>\n",
       "      <th>sentiment</th>\n",
       "      <th>review</th>\n",
       "    </tr>\n",
       "  </thead>\n",
       "  <tbody>\n",
       "    <tr>\n",
       "      <th>0</th>\n",
       "      <td>5814_8</td>\n",
       "      <td>1</td>\n",
       "      <td>With all this stuff going down at the moment w...</td>\n",
       "    </tr>\n",
       "    <tr>\n",
       "      <th>1</th>\n",
       "      <td>2381_9</td>\n",
       "      <td>1</td>\n",
       "      <td>\"The Classic War of the Worlds\" by Timothy Hin...</td>\n",
       "    </tr>\n",
       "    <tr>\n",
       "      <th>2</th>\n",
       "      <td>7759_3</td>\n",
       "      <td>0</td>\n",
       "      <td>The film starts with a manager (Nicholas Bell)...</td>\n",
       "    </tr>\n",
       "    <tr>\n",
       "      <th>3</th>\n",
       "      <td>3630_4</td>\n",
       "      <td>0</td>\n",
       "      <td>It must be assumed that those who praised this...</td>\n",
       "    </tr>\n",
       "    <tr>\n",
       "      <th>4</th>\n",
       "      <td>9495_8</td>\n",
       "      <td>1</td>\n",
       "      <td>Superbly trashy and wondrously unpretentious 8...</td>\n",
       "    </tr>\n",
       "  </tbody>\n",
       "</table>\n",
       "</div>"
      ],
      "text/plain": [
       "       id  sentiment                                             review\n",
       "0  5814_8          1  With all this stuff going down at the moment w...\n",
       "1  2381_9          1  \"The Classic War of the Worlds\" by Timothy Hin...\n",
       "2  7759_3          0  The film starts with a manager (Nicholas Bell)...\n",
       "3  3630_4          0  It must be assumed that those who praised this...\n",
       "4  9495_8          1  Superbly trashy and wondrously unpretentious 8..."
      ]
     },
     "execution_count": 8,
     "metadata": {},
     "output_type": "execute_result"
    }
   ],
   "source": [
    "df = load_dataset('labeled_train')\n",
    "df.head()"
   ]
  },
  {
   "cell_type": "code",
   "execution_count": 11,
   "metadata": {},
   "outputs": [
    {
     "data": {
      "text/plain": [
       "(300,)"
      ]
     },
     "execution_count": 11,
     "metadata": {},
     "output_type": "execute_result"
    }
   ],
   "source": [
    "model['love'].shape #每个单词是一个300维的向量"
   ]
  },
  {
   "cell_type": "code",
   "execution_count": 12,
   "metadata": {
    "collapsed": true
   },
   "outputs": [],
   "source": [
    "# 将每行的评论变成向量\n",
    "def to_review_vector(review):\n",
    "    words = clean_text(review, remove_stopwords=True)\n",
    "    array = np.array([model[w] for w in words if w in model])\n",
    "    return pd.Series(array.mean(axis=0))"
   ]
  },
  {
   "cell_type": "code",
   "execution_count": 13,
   "metadata": {},
   "outputs": [
    {
     "data": {
      "text/html": [
       "<div>\n",
       "<style>\n",
       "    .dataframe thead tr:only-child th {\n",
       "        text-align: right;\n",
       "    }\n",
       "\n",
       "    .dataframe thead th {\n",
       "        text-align: left;\n",
       "    }\n",
       "\n",
       "    .dataframe tbody tr th {\n",
       "        vertical-align: top;\n",
       "    }\n",
       "</style>\n",
       "<table border=\"1\" class=\"dataframe\">\n",
       "  <thead>\n",
       "    <tr style=\"text-align: right;\">\n",
       "      <th></th>\n",
       "      <th>0</th>\n",
       "      <th>1</th>\n",
       "      <th>2</th>\n",
       "      <th>3</th>\n",
       "      <th>4</th>\n",
       "      <th>5</th>\n",
       "      <th>6</th>\n",
       "      <th>7</th>\n",
       "      <th>8</th>\n",
       "      <th>9</th>\n",
       "      <th>...</th>\n",
       "      <th>290</th>\n",
       "      <th>291</th>\n",
       "      <th>292</th>\n",
       "      <th>293</th>\n",
       "      <th>294</th>\n",
       "      <th>295</th>\n",
       "      <th>296</th>\n",
       "      <th>297</th>\n",
       "      <th>298</th>\n",
       "      <th>299</th>\n",
       "    </tr>\n",
       "  </thead>\n",
       "  <tbody>\n",
       "    <tr>\n",
       "      <th>0</th>\n",
       "      <td>0.030023</td>\n",
       "      <td>0.029956</td>\n",
       "      <td>-0.016156</td>\n",
       "      <td>0.007592</td>\n",
       "      <td>0.001252</td>\n",
       "      <td>-0.007221</td>\n",
       "      <td>0.001652</td>\n",
       "      <td>0.002545</td>\n",
       "      <td>0.006790</td>\n",
       "      <td>0.000278</td>\n",
       "      <td>...</td>\n",
       "      <td>-0.019643</td>\n",
       "      <td>-0.000346</td>\n",
       "      <td>-0.007629</td>\n",
       "      <td>-0.015923</td>\n",
       "      <td>0.012045</td>\n",
       "      <td>0.003244</td>\n",
       "      <td>0.003341</td>\n",
       "      <td>-0.012681</td>\n",
       "      <td>-0.000918</td>\n",
       "      <td>0.004719</td>\n",
       "    </tr>\n",
       "    <tr>\n",
       "      <th>1</th>\n",
       "      <td>0.030643</td>\n",
       "      <td>0.011501</td>\n",
       "      <td>0.001342</td>\n",
       "      <td>0.017530</td>\n",
       "      <td>0.008891</td>\n",
       "      <td>-0.017623</td>\n",
       "      <td>0.005670</td>\n",
       "      <td>-0.013038</td>\n",
       "      <td>-0.004778</td>\n",
       "      <td>0.031069</td>\n",
       "      <td>...</td>\n",
       "      <td>-0.021898</td>\n",
       "      <td>-0.014636</td>\n",
       "      <td>-0.001904</td>\n",
       "      <td>-0.051971</td>\n",
       "      <td>-0.001877</td>\n",
       "      <td>0.007129</td>\n",
       "      <td>-0.006705</td>\n",
       "      <td>-0.009252</td>\n",
       "      <td>0.016140</td>\n",
       "      <td>0.013918</td>\n",
       "    </tr>\n",
       "    <tr>\n",
       "      <th>2</th>\n",
       "      <td>-0.002264</td>\n",
       "      <td>0.008187</td>\n",
       "      <td>-0.010805</td>\n",
       "      <td>0.003473</td>\n",
       "      <td>-0.012158</td>\n",
       "      <td>-0.000750</td>\n",
       "      <td>-0.007270</td>\n",
       "      <td>0.039489</td>\n",
       "      <td>-0.001391</td>\n",
       "      <td>0.000328</td>\n",
       "      <td>...</td>\n",
       "      <td>-0.016351</td>\n",
       "      <td>0.012109</td>\n",
       "      <td>-0.048683</td>\n",
       "      <td>-0.016565</td>\n",
       "      <td>0.016170</td>\n",
       "      <td>0.007857</td>\n",
       "      <td>-0.000150</td>\n",
       "      <td>0.010387</td>\n",
       "      <td>-0.023958</td>\n",
       "      <td>0.001242</td>\n",
       "    </tr>\n",
       "    <tr>\n",
       "      <th>3</th>\n",
       "      <td>0.008067</td>\n",
       "      <td>0.019937</td>\n",
       "      <td>-0.002238</td>\n",
       "      <td>-0.000273</td>\n",
       "      <td>-0.012168</td>\n",
       "      <td>-0.008075</td>\n",
       "      <td>0.004959</td>\n",
       "      <td>-0.007353</td>\n",
       "      <td>0.018808</td>\n",
       "      <td>0.010050</td>\n",
       "      <td>...</td>\n",
       "      <td>0.004207</td>\n",
       "      <td>-0.001850</td>\n",
       "      <td>-0.021498</td>\n",
       "      <td>-0.018876</td>\n",
       "      <td>0.008945</td>\n",
       "      <td>0.004867</td>\n",
       "      <td>0.025828</td>\n",
       "      <td>-0.008410</td>\n",
       "      <td>-0.009932</td>\n",
       "      <td>0.016853</td>\n",
       "    </tr>\n",
       "    <tr>\n",
       "      <th>4</th>\n",
       "      <td>0.007507</td>\n",
       "      <td>0.018863</td>\n",
       "      <td>-0.015902</td>\n",
       "      <td>-0.003176</td>\n",
       "      <td>-0.006588</td>\n",
       "      <td>0.006482</td>\n",
       "      <td>0.005634</td>\n",
       "      <td>0.015489</td>\n",
       "      <td>0.006553</td>\n",
       "      <td>-0.009990</td>\n",
       "      <td>...</td>\n",
       "      <td>-0.016796</td>\n",
       "      <td>0.006233</td>\n",
       "      <td>-0.056260</td>\n",
       "      <td>-0.013591</td>\n",
       "      <td>0.015625</td>\n",
       "      <td>-0.003683</td>\n",
       "      <td>0.005536</td>\n",
       "      <td>0.008538</td>\n",
       "      <td>-0.025258</td>\n",
       "      <td>0.011272</td>\n",
       "    </tr>\n",
       "  </tbody>\n",
       "</table>\n",
       "<p>5 rows × 300 columns</p>\n",
       "</div>"
      ],
      "text/plain": [
       "        0         1         2         3         4         5         6    \\\n",
       "0  0.030023  0.029956 -0.016156  0.007592  0.001252 -0.007221  0.001652   \n",
       "1  0.030643  0.011501  0.001342  0.017530  0.008891 -0.017623  0.005670   \n",
       "2 -0.002264  0.008187 -0.010805  0.003473 -0.012158 -0.000750 -0.007270   \n",
       "3  0.008067  0.019937 -0.002238 -0.000273 -0.012168 -0.008075  0.004959   \n",
       "4  0.007507  0.018863 -0.015902 -0.003176 -0.006588  0.006482  0.005634   \n",
       "\n",
       "        7         8         9      ...          290       291       292  \\\n",
       "0  0.002545  0.006790  0.000278    ...    -0.019643 -0.000346 -0.007629   \n",
       "1 -0.013038 -0.004778  0.031069    ...    -0.021898 -0.014636 -0.001904   \n",
       "2  0.039489 -0.001391  0.000328    ...    -0.016351  0.012109 -0.048683   \n",
       "3 -0.007353  0.018808  0.010050    ...     0.004207 -0.001850 -0.021498   \n",
       "4  0.015489  0.006553 -0.009990    ...    -0.016796  0.006233 -0.056260   \n",
       "\n",
       "        293       294       295       296       297       298       299  \n",
       "0 -0.015923  0.012045  0.003244  0.003341 -0.012681 -0.000918  0.004719  \n",
       "1 -0.051971 -0.001877  0.007129 -0.006705 -0.009252  0.016140  0.013918  \n",
       "2 -0.016565  0.016170  0.007857 -0.000150  0.010387 -0.023958  0.001242  \n",
       "3 -0.018876  0.008945  0.004867  0.025828 -0.008410 -0.009932  0.016853  \n",
       "4 -0.013591  0.015625 -0.003683  0.005536  0.008538 -0.025258  0.011272  \n",
       "\n",
       "[5 rows x 300 columns]"
      ]
     },
     "execution_count": 13,
     "metadata": {},
     "output_type": "execute_result"
    }
   ],
   "source": [
    "train_data_features = df.review.apply(to_review_vector)\n",
    "train_data_features.head()"
   ]
  },
  {
   "cell_type": "markdown",
   "metadata": {},
   "source": [
    "### 构建LSTM分类器"
   ]
  },
  {
   "cell_type": "code",
   "execution_count": 15,
   "metadata": {
    "collapsed": true
   },
   "outputs": [],
   "source": [
    "from keras.preprocessing import sequence\n",
    "from keras.models import Sequential\n",
    "from keras.layers import Dense, Embedding\n",
    "from keras.layers import LSTM"
   ]
  },
  {
   "cell_type": "code",
   "execution_count": 17,
   "metadata": {},
   "outputs": [
    {
     "data": {
      "text/plain": [
       "pandas.core.frame.DataFrame"
      ]
     },
     "execution_count": 17,
     "metadata": {},
     "output_type": "execute_result"
    }
   ],
   "source": [
    "type(train_data_features)"
   ]
  },
  {
   "cell_type": "code",
   "execution_count": 18,
   "metadata": {},
   "outputs": [
    {
     "name": "stdout",
     "output_type": "stream",
     "text": [
      "Pad sequences(samples x time)\n"
     ]
    }
   ],
   "source": [
    "max_features = 300\n",
    "batch_size = 32\n",
    "print('Pad sequences(samples x time)')\n",
    "x_train = sequence.pad_sequences(train_data_features.values)"
   ]
  },
  {
   "cell_type": "code",
   "execution_count": null,
   "metadata": {
    "collapsed": true
   },
   "outputs": [],
   "source": [
    "print('Build model...')\n",
    "model = Sequential()\n",
    "model.add(Embedding(max_features, 128))  #嵌入层将正整数下标转换为固定大小的向量。只能作为模型的第一层\n",
    "model.add(LSTM(128, dropout=0.2, recurrent_dropout=0.2))\n",
    "model.add(Dense(1, activation='sigmoid'))\n",
    "model.compile(loss='binary_crossentropy', optimizer='adam', metrics=['accuracy'])"
   ]
  },
  {
   "cell_type": "code",
   "execution_count": null,
   "metadata": {
    "collapsed": true
   },
   "outputs": [],
   "source": [
    "print('Train...')\n",
    "y_train=np.array(list(df['sentiment']))\n",
    "model.fit(x_train, y_train, batch_size=batch_size, epochs=5)"
   ]
  },
  {
   "cell_type": "code",
   "execution_count": null,
   "metadata": {
    "collapsed": true
   },
   "outputs": [],
   "source": []
  },
  {
   "cell_type": "markdown",
   "metadata": {},
   "source": [
    "### 查看结果"
   ]
  },
  {
   "cell_type": "code",
   "execution_count": null,
   "metadata": {
    "collapsed": true
   },
   "outputs": [],
   "source": [
    "from sklearn.metrics import confusion_matrix\n",
    "confusion_matrix(df.sentiment, model.predict(train_data_features)) # 混淆矩阵，所有正确的预测结果都在对角线上"
   ]
  },
  {
   "cell_type": "code",
   "execution_count": null,
   "metadata": {
    "collapsed": true
   },
   "outputs": [],
   "source": []
  },
  {
   "cell_type": "code",
   "execution_count": null,
   "metadata": {
    "collapsed": true
   },
   "outputs": [],
   "source": []
  },
  {
   "cell_type": "code",
   "execution_count": null,
   "metadata": {
    "collapsed": true
   },
   "outputs": [],
   "source": []
  },
  {
   "cell_type": "code",
   "execution_count": null,
   "metadata": {
    "collapsed": true
   },
   "outputs": [],
   "source": []
  },
  {
   "cell_type": "code",
   "execution_count": null,
   "metadata": {
    "collapsed": true
   },
   "outputs": [],
   "source": []
  },
  {
   "cell_type": "code",
   "execution_count": null,
   "metadata": {
    "collapsed": true
   },
   "outputs": [],
   "source": []
  },
  {
   "cell_type": "code",
   "execution_count": null,
   "metadata": {
    "collapsed": true
   },
   "outputs": [],
   "source": []
  },
  {
   "cell_type": "code",
   "execution_count": null,
   "metadata": {
    "collapsed": true
   },
   "outputs": [],
   "source": []
  },
  {
   "cell_type": "code",
   "execution_count": null,
   "metadata": {
    "collapsed": true
   },
   "outputs": [],
   "source": []
  },
  {
   "cell_type": "code",
   "execution_count": null,
   "metadata": {
    "collapsed": true
   },
   "outputs": [],
   "source": []
  }
 ],
 "metadata": {
  "kernelspec": {
   "display_name": "Python 3",
   "language": "python",
   "name": "python3"
  },
  "language_info": {
   "codemirror_mode": {
    "name": "ipython",
    "version": 3
   },
   "file_extension": ".py",
   "mimetype": "text/x-python",
   "name": "python",
   "nbconvert_exporter": "python",
   "pygments_lexer": "ipython3",
   "version": "3.6.1"
  },
  "toc": {
   "nav_menu": {},
   "number_sections": true,
   "sideBar": true,
   "skip_h1_title": false,
   "toc_cell": false,
   "toc_position": {},
   "toc_section_display": "block",
   "toc_window_display": true
  }
 },
 "nbformat": 4,
 "nbformat_minor": 2
}
